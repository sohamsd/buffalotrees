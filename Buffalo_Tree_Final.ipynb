{
 "cells": [
  {
   "cell_type": "markdown",
   "metadata": {
    "id": "6699dc21-3c91-4673-91f6-24aa41e9fb09",
    "tags": []
   },
   "source": [
    "# Buffalo Tree Analysis"
   ]
  },
  {
   "cell_type": "code",
   "execution_count": null,
   "metadata": {
    "colab": {
     "base_uri": "https://localhost:8080/"
    },
    "executionInfo": {
     "elapsed": 282,
     "status": "ok",
     "timestamp": 1639879711581,
     "user": {
      "displayName": "Nikhil Sharma",
      "photoUrl": "https://lh3.googleusercontent.com/a-/AOh14Gj7gHWG4JEF4-8bttI9vPHjclquT1FoMg0qQzua=s64",
      "userId": "06709591125112855864"
     },
     "user_tz": 300
    },
    "id": "64d9e049-b592-44c3-b62c-34c8a21c18e0",
    "outputId": "2415f5d2-b186-4a69-849c-36c7e30ecf9d",
    "tags": []
   },
   "outputs": [
    {
     "data": {
      "text/plain": [
       "<contextlib._GeneratorContextManager at 0x7feb44d30910>"
      ]
     },
     "execution_count": 3,
     "metadata": {},
     "output_type": "execute_result"
    }
   ],
   "source": [
    "import pandas as pd\n",
    "from IPython.display import display\n",
    "import sqlite3\n",
    "from sqlite3 import Error\n",
    "import matplotlib.pyplot as plt\n",
    "import seaborn as sns\n",
    "from pylab import rcParams\n",
    "import numpy as np\n",
    "pd.set_option('display.max_rows', None)\n",
    "pd.set_option('display.max_columns', None)\n",
    "pd.set_option('display.width', 1000)\n",
    "pd.set_option('display.colheader_justify', 'center')\n",
    "pd.set_option('display.precision', 3)\n",
    "rcParams['figure.figsize'] = 6,6\n",
    "rcParams['axes.labelsize'] = 12\n",
    "rcParams['xtick.labelsize'] = 12\n",
    "rcParams['ytick.labelsize'] = 12\n",
    "plt.style.context('fivethirtyeight')"
   ]
  },
  {
   "cell_type": "code",
   "execution_count": null,
   "metadata": {
    "colab": {
     "base_uri": "https://localhost:8080/"
    },
    "executionInfo": {
     "elapsed": 1474,
     "status": "ok",
     "timestamp": 1639879713324,
     "user": {
      "displayName": "Nikhil Sharma",
      "photoUrl": "https://lh3.googleusercontent.com/a-/AOh14Gj7gHWG4JEF4-8bttI9vPHjclquT1FoMg0qQzua=s64",
      "userId": "06709591125112855864"
     },
     "user_tz": 300
    },
    "id": "6159714c-8fbd-4342-b62e-16c4930b94fa",
    "outputId": "3b0bec8e-9673-49b0-ff0c-60d9469ed2ae",
    "tags": []
   },
   "outputs": [
    {
     "name": "stderr",
     "output_type": "stream",
     "text": [
      "/usr/local/lib/python3.7/dist-packages/IPython/core/interactiveshell.py:2718: DtypeWarning: Columns (22) have mixed types.Specify dtype option on import or set low_memory=False.\n",
      "  interactivity=interactivity, compiler=compiler, result=result)\n"
     ]
    }
   ],
   "source": [
    "# Importing csv and renaming columns \n",
    "\n",
    "rename_cols = ['Total_Yearly_Eco_Benefits','Stormwater_Benefits','Stormwater_Gallons','Greenhouse_CO2_Benefits','CO2_Avoided','CO2_Sequestered','Energy_Benefits','kWh_Saved','Therms_Saved','Air_Quality_Benefits','Pollutants_Saved','Property_Benefits','Leaf_Surface_Area']\n",
    "current_name = ['Total Yearly Eco Benefits ($)','Stormwater Benefits ($)','Stormwater Gallons Saved','Greenhouse CO2 Benefits ($)','CO2 Avoided (in lbs.)','CO2 Sequestered (in lbs.)','Energy Benefits ($)','kWh Saved','Therms Saved','Air Quality Benefits ($)','Pollutants Saved (in lbs.)','Property Benefits ($)','Leaf Surface Area (in sq. ft.)']\n",
    "\n",
    "tree_df = pd.read_csv('Tree_Inventory.csv')\n",
    "tree_df.rename(columns={current_name[0]:rename_cols[0],current_name[1]:rename_cols[1],current_name[2]:rename_cols[2],current_name[3]:rename_cols[3],current_name[4]:rename_cols[4],current_name[5]:rename_cols[5],current_name[6]:rename_cols[6],current_name[7]:rename_cols[7],current_name[8]:rename_cols[8],current_name[9]:rename_cols[9],current_name[10]:rename_cols[10],current_name[11]:rename_cols[11],current_name[12]:rename_cols[12],'Site ID':'Site_ID','Police Districts':'Police_Districts','Council Districts':'District_id','Council District':'Council_District','Zip Codes':'Zip_Codes',\"Botanical Name\":\"Botanical_Name\",\"Common Name\":\"Common_Name\",\"Park Name\":\"Park_Name\"},inplace=True)\n",
    "tree_df = tree_df.dropna(axis=0)\n"
   ]
  },
  {
   "cell_type": "markdown",
   "metadata": {
    "id": "73eb26eb-3b2e-4026-9590-d55b9fdd1707",
    "tags": []
   },
   "source": [
    "## Data \n",
    "\n",
    "Data is available at Tree_Inventory.csv\n",
    "\n",
    "Data Description - https://data.buffalony.gov/Quality-of-Life/Tree-Inventory/n4ni-uuec\n"
   ]
  },
  {
   "cell_type": "markdown",
   "metadata": {
    "id": "b7be616b-7b14-46b2-9d6b-5068e3f07dde",
    "tags": []
   },
   "source": [
    "# Problem statements\n",
    "\n",
    "- Identify the top trees to be planted on the vacant lot which will improve the quality of life \n",
    "\n",
    "- Identify the factors that impact yearly ecological benefits and provide suggestions to increase the ecological benefits \n"
   ]
  },
  {
   "cell_type": "markdown",
   "metadata": {
    "id": "3ddbac38-03c3-4cff-b6ab-6ea32a3ce175",
    "tags": []
   },
   "source": [
    "# Dataset "
   ]
  },
  {
   "cell_type": "markdown",
   "metadata": {
    "id": "9b142933-0919-428b-a845-4f892ab72850",
    "tags": []
   },
   "source": [
    "### Source: \n",
    "- Open Data Buffalo \n",
    "- Open data program aims to make public information available free for everyone\n",
    "\n",
    "### Data - Tree Inventory\n",
    "- All street trees within the City of Buffalo. \n",
    "- The City of Buffalo Bureau of Forestry is responsible for maintaining and preserving the public urban forest"
   ]
  },
  {
   "cell_type": "markdown",
   "metadata": {
    "id": "a49eb22b-adea-4182-b1b5-9a939bf264f0",
    "tags": []
   },
   "source": [
    "## Dataset - Gist \n"
   ]
  },
  {
   "cell_type": "code",
   "execution_count": null,
   "metadata": {
    "colab": {
     "base_uri": "https://localhost:8080/",
     "height": 374
    },
    "executionInfo": {
     "elapsed": 12,
     "status": "ok",
     "timestamp": 1639879713324,
     "user": {
      "displayName": "Nikhil Sharma",
      "photoUrl": "https://lh3.googleusercontent.com/a-/AOh14Gj7gHWG4JEF4-8bttI9vPHjclquT1FoMg0qQzua=s64",
      "userId": "06709591125112855864"
     },
     "user_tz": 300
    },
    "id": "84b3c530-0f95-4fd7-b7f7-6d2ca11dabee",
    "outputId": "dc3208cf-cded-4c83-8db1-d4e79b3993fc",
    "tags": []
   },
   "outputs": [
    {
     "data": {
      "text/html": [
       "\n",
       "  <div id=\"df-4a5d48f4-86b0-45af-963f-2d93bb176369\">\n",
       "    <div class=\"colab-df-container\">\n",
       "      <div>\n",
       "<style scoped>\n",
       "    .dataframe tbody tr th:only-of-type {\n",
       "        vertical-align: middle;\n",
       "    }\n",
       "\n",
       "    .dataframe tbody tr th {\n",
       "        vertical-align: top;\n",
       "    }\n",
       "\n",
       "    .dataframe thead th {\n",
       "        text-align: right;\n",
       "    }\n",
       "</style>\n",
       "<table border=\"1\" class=\"dataframe\">\n",
       "  <thead>\n",
       "    <tr style=\"text-align: center;\">\n",
       "      <th></th>\n",
       "      <th>Editing</th>\n",
       "      <th>Botanical_Name</th>\n",
       "      <th>Common_Name</th>\n",
       "      <th>DBH</th>\n",
       "      <th>Total_Yearly_Eco_Benefits</th>\n",
       "      <th>Stormwater_Benefits</th>\n",
       "      <th>Stormwater_Gallons</th>\n",
       "      <th>Greenhouse_CO2_Benefits</th>\n",
       "      <th>CO2_Avoided</th>\n",
       "      <th>CO2_Sequestered</th>\n",
       "      <th>Energy_Benefits</th>\n",
       "      <th>kWh_Saved</th>\n",
       "      <th>Therms_Saved</th>\n",
       "      <th>Air_Quality_Benefits</th>\n",
       "      <th>Pollutants_Saved</th>\n",
       "      <th>Property_Benefits</th>\n",
       "      <th>Leaf_Surface_Area</th>\n",
       "      <th>Address</th>\n",
       "      <th>Street</th>\n",
       "      <th>Side</th>\n",
       "      <th>Site</th>\n",
       "      <th>Council_District</th>\n",
       "      <th>Park_Name</th>\n",
       "      <th>Latitude</th>\n",
       "      <th>Longitude</th>\n",
       "      <th>Site_ID</th>\n",
       "      <th>Location</th>\n",
       "    </tr>\n",
       "  </thead>\n",
       "  <tbody>\n",
       "    <tr>\n",
       "      <th>0</th>\n",
       "      <td>Buffalo</td>\n",
       "      <td>AILANTHUS ALTISSIMA</td>\n",
       "      <td>AILANTHUS</td>\n",
       "      <td>35</td>\n",
       "      <td>282.19</td>\n",
       "      <td>37.44</td>\n",
       "      <td>4679.79</td>\n",
       "      <td>2.65</td>\n",
       "      <td>432.71</td>\n",
       "      <td>481.06</td>\n",
       "      <td>113.05</td>\n",
       "      <td>175.57</td>\n",
       "      <td>62.82</td>\n",
       "      <td>18.96</td>\n",
       "      <td>2.99</td>\n",
       "      <td>110.10</td>\n",
       "      <td>182.98</td>\n",
       "      <td>494</td>\n",
       "      <td>KENSINGTON AV</td>\n",
       "      <td>Front</td>\n",
       "      <td>1</td>\n",
       "      <td>MASTEN</td>\n",
       "      <td>0</td>\n",
       "      <td>42.930</td>\n",
       "      <td>-78.834</td>\n",
       "      <td>132500</td>\n",
       "      <td>(42.9298755572745, -78.8338696116123)</td>\n",
       "    </tr>\n",
       "    <tr>\n",
       "      <th>1</th>\n",
       "      <td>Buffalo</td>\n",
       "      <td>ACER CAMPESTRE</td>\n",
       "      <td>MAPLE, HEDGE</td>\n",
       "      <td>15</td>\n",
       "      <td>134.79</td>\n",
       "      <td>9.13</td>\n",
       "      <td>1140.93</td>\n",
       "      <td>1.30</td>\n",
       "      <td>238.12</td>\n",
       "      <td>225.40</td>\n",
       "      <td>60.16</td>\n",
       "      <td>96.61</td>\n",
       "      <td>33.11</td>\n",
       "      <td>8.96</td>\n",
       "      <td>1.49</td>\n",
       "      <td>55.25</td>\n",
       "      <td>91.83</td>\n",
       "      <td>149</td>\n",
       "      <td>PETER ST</td>\n",
       "      <td>Front</td>\n",
       "      <td>1</td>\n",
       "      <td>NORTH</td>\n",
       "      <td>0</td>\n",
       "      <td>42.941</td>\n",
       "      <td>-78.889</td>\n",
       "      <td>53359</td>\n",
       "      <td>(42.9414919801919, -78.8890548127135)</td>\n",
       "    </tr>\n",
       "    <tr>\n",
       "      <th>2</th>\n",
       "      <td>Buffalo</td>\n",
       "      <td>SYRINGA RETICULATA 'IVORY SILK'</td>\n",
       "      <td>LILAC, IVORY SILK</td>\n",
       "      <td>4</td>\n",
       "      <td>24.42</td>\n",
       "      <td>1.19</td>\n",
       "      <td>148.59</td>\n",
       "      <td>0.18</td>\n",
       "      <td>32.67</td>\n",
       "      <td>25.27</td>\n",
       "      <td>11.29</td>\n",
       "      <td>13.25</td>\n",
       "      <td>6.70</td>\n",
       "      <td>1.41</td>\n",
       "      <td>0.23</td>\n",
       "      <td>10.36</td>\n",
       "      <td>17.22</td>\n",
       "      <td>78</td>\n",
       "      <td>GREELEY ST</td>\n",
       "      <td>Side</td>\n",
       "      <td>1</td>\n",
       "      <td>NORTH</td>\n",
       "      <td>0</td>\n",
       "      <td>42.950</td>\n",
       "      <td>-78.883</td>\n",
       "      <td>46812</td>\n",
       "      <td>(42.9498795777274, -78.8827039922936)</td>\n",
       "    </tr>\n",
       "    <tr>\n",
       "      <th>3</th>\n",
       "      <td>Buffalo</td>\n",
       "      <td>VACANT</td>\n",
       "      <td>VACANT</td>\n",
       "      <td>0</td>\n",
       "      <td>0.00</td>\n",
       "      <td>0.00</td>\n",
       "      <td>0.00</td>\n",
       "      <td>0.00</td>\n",
       "      <td>0.00</td>\n",
       "      <td>0.00</td>\n",
       "      <td>0.00</td>\n",
       "      <td>0.00</td>\n",
       "      <td>0.00</td>\n",
       "      <td>0.00</td>\n",
       "      <td>0.00</td>\n",
       "      <td>0.00</td>\n",
       "      <td>0.00</td>\n",
       "      <td>46</td>\n",
       "      <td>WOODLEY RD</td>\n",
       "      <td>Front</td>\n",
       "      <td>1</td>\n",
       "      <td>UNIVERSITY</td>\n",
       "      <td>0</td>\n",
       "      <td>42.945</td>\n",
       "      <td>-78.802</td>\n",
       "      <td>77544</td>\n",
       "      <td>(42.9452730867877, -78.8022048046701)</td>\n",
       "    </tr>\n",
       "    <tr>\n",
       "      <th>4</th>\n",
       "      <td>Buffalo</td>\n",
       "      <td>OSTRYA VIRGINIANA</td>\n",
       "      <td>HOPHORNBEAM, AMERICAN</td>\n",
       "      <td>11</td>\n",
       "      <td>98.84</td>\n",
       "      <td>3.41</td>\n",
       "      <td>426.35</td>\n",
       "      <td>0.06</td>\n",
       "      <td>13.15</td>\n",
       "      <td>7.18</td>\n",
       "      <td>43.82</td>\n",
       "      <td>62.51</td>\n",
       "      <td>24.90</td>\n",
       "      <td>0.94</td>\n",
       "      <td>0.14</td>\n",
       "      <td>50.61</td>\n",
       "      <td>84.11</td>\n",
       "      <td>98</td>\n",
       "      <td>TURNER AV</td>\n",
       "      <td>Front</td>\n",
       "      <td>1</td>\n",
       "      <td>SOUTH</td>\n",
       "      <td>0</td>\n",
       "      <td>42.833</td>\n",
       "      <td>-78.802</td>\n",
       "      <td>114479</td>\n",
       "      <td>(42.8328515651786, -78.8021269052032)</td>\n",
       "    </tr>\n",
       "  </tbody>\n",
       "</table>\n",
       "</div>\n",
       "      <button class=\"colab-df-convert\" onclick=\"convertToInteractive('df-4a5d48f4-86b0-45af-963f-2d93bb176369')\"\n",
       "              title=\"Convert this dataframe to an interactive table.\"\n",
       "              style=\"display:none;\">\n",
       "        \n",
       "  <svg xmlns=\"http://www.w3.org/2000/svg\" height=\"24px\"viewBox=\"0 0 24 24\"\n",
       "       width=\"24px\">\n",
       "    <path d=\"M0 0h24v24H0V0z\" fill=\"none\"/>\n",
       "    <path d=\"M18.56 5.44l.94 2.06.94-2.06 2.06-.94-2.06-.94-.94-2.06-.94 2.06-2.06.94zm-11 1L8.5 8.5l.94-2.06 2.06-.94-2.06-.94L8.5 2.5l-.94 2.06-2.06.94zm10 10l.94 2.06.94-2.06 2.06-.94-2.06-.94-.94-2.06-.94 2.06-2.06.94z\"/><path d=\"M17.41 7.96l-1.37-1.37c-.4-.4-.92-.59-1.43-.59-.52 0-1.04.2-1.43.59L10.3 9.45l-7.72 7.72c-.78.78-.78 2.05 0 2.83L4 21.41c.39.39.9.59 1.41.59.51 0 1.02-.2 1.41-.59l7.78-7.78 2.81-2.81c.8-.78.8-2.07 0-2.86zM5.41 20L4 18.59l7.72-7.72 1.47 1.35L5.41 20z\"/>\n",
       "  </svg>\n",
       "      </button>\n",
       "      \n",
       "  <style>\n",
       "    .colab-df-container {\n",
       "      display:flex;\n",
       "      flex-wrap:wrap;\n",
       "      gap: 12px;\n",
       "    }\n",
       "\n",
       "    .colab-df-convert {\n",
       "      background-color: #E8F0FE;\n",
       "      border: none;\n",
       "      border-radius: 50%;\n",
       "      cursor: pointer;\n",
       "      display: none;\n",
       "      fill: #1967D2;\n",
       "      height: 32px;\n",
       "      padding: 0 0 0 0;\n",
       "      width: 32px;\n",
       "    }\n",
       "\n",
       "    .colab-df-convert:hover {\n",
       "      background-color: #E2EBFA;\n",
       "      box-shadow: 0px 1px 2px rgba(60, 64, 67, 0.3), 0px 1px 3px 1px rgba(60, 64, 67, 0.15);\n",
       "      fill: #174EA6;\n",
       "    }\n",
       "\n",
       "    [theme=dark] .colab-df-convert {\n",
       "      background-color: #3B4455;\n",
       "      fill: #D2E3FC;\n",
       "    }\n",
       "\n",
       "    [theme=dark] .colab-df-convert:hover {\n",
       "      background-color: #434B5C;\n",
       "      box-shadow: 0px 1px 3px 1px rgba(0, 0, 0, 0.15);\n",
       "      filter: drop-shadow(0px 1px 2px rgba(0, 0, 0, 0.3));\n",
       "      fill: #FFFFFF;\n",
       "    }\n",
       "  </style>\n",
       "\n",
       "      <script>\n",
       "        const buttonEl =\n",
       "          document.querySelector('#df-4a5d48f4-86b0-45af-963f-2d93bb176369 button.colab-df-convert');\n",
       "        buttonEl.style.display =\n",
       "          google.colab.kernel.accessAllowed ? 'block' : 'none';\n",
       "\n",
       "        async function convertToInteractive(key) {\n",
       "          const element = document.querySelector('#df-4a5d48f4-86b0-45af-963f-2d93bb176369');\n",
       "          const dataTable =\n",
       "            await google.colab.kernel.invokeFunction('convertToInteractive',\n",
       "                                                     [key], {});\n",
       "          if (!dataTable) return;\n",
       "\n",
       "          const docLinkHtml = 'Like what you see? Visit the ' +\n",
       "            '<a target=\"_blank\" href=https://colab.research.google.com/notebooks/data_table.ipynb>data table notebook</a>'\n",
       "            + ' to learn more about interactive tables.';\n",
       "          element.innerHTML = '';\n",
       "          dataTable['output_type'] = 'display_data';\n",
       "          await google.colab.output.renderOutput(dataTable, element);\n",
       "          const docLink = document.createElement('div');\n",
       "          docLink.innerHTML = docLinkHtml;\n",
       "          element.appendChild(docLink);\n",
       "        }\n",
       "      </script>\n",
       "    </div>\n",
       "  </div>\n",
       "  "
      ],
      "text/plain": [
       "  Editing           Botanical_Name               Common_Name        DBH  Total_Yearly_Eco_Benefits  Stormwater_Benefits  Stormwater_Gallons  Greenhouse_CO2_Benefits  CO2_Avoided  CO2_Sequestered  Energy_Benefits  kWh_Saved  Therms_Saved  Air_Quality_Benefits  Pollutants_Saved  Property_Benefits  Leaf_Surface_Area  Address     Street      Side   Site Council_District Park_Name  Latitude  Longitude  Site_ID                Location               \n",
       "0  Buffalo              AILANTHUS ALTISSIMA              AILANTHUS  35            282.19                   37.44               4679.79                2.65              432.71         481.06           113.05        175.57        62.82             18.96               2.99             110.10             182.98          494    KENSINGTON AV  Front    1         MASTEN         0      42.930   -78.834    132500   (42.9298755572745, -78.8338696116123)\n",
       "1  Buffalo                   ACER CAMPESTRE           MAPLE, HEDGE  15            134.79                    9.13               1140.93                1.30              238.12         225.40            60.16         96.61        33.11              8.96               1.49              55.25              91.83          149         PETER ST  Front    1          NORTH         0      42.941   -78.889     53359   (42.9414919801919, -78.8890548127135)\n",
       "2  Buffalo  SYRINGA RETICULATA 'IVORY SILK'      LILAC, IVORY SILK   4             24.42                    1.19                148.59                0.18               32.67          25.27            11.29         13.25         6.70              1.41               0.23              10.36              17.22           78       GREELEY ST   Side    1          NORTH         0      42.950   -78.883     46812   (42.9498795777274, -78.8827039922936)\n",
       "3  Buffalo                           VACANT                 VACANT   0              0.00                    0.00                  0.00                0.00                0.00           0.00             0.00          0.00         0.00              0.00               0.00               0.00               0.00           46       WOODLEY RD  Front    1     UNIVERSITY         0      42.945   -78.802     77544   (42.9452730867877, -78.8022048046701)\n",
       "4  Buffalo                OSTRYA VIRGINIANA  HOPHORNBEAM, AMERICAN  11             98.84                    3.41                426.35                0.06               13.15           7.18            43.82         62.51        24.90              0.94               0.14              50.61              84.11           98        TURNER AV  Front    1          SOUTH         0      42.833   -78.802    114479   (42.8328515651786, -78.8021269052032)"
      ]
     },
     "metadata": {},
     "output_type": "display_data"
    }
   ],
   "source": [
    "display(tree_df.head())"
   ]
  },
  {
   "cell_type": "markdown",
   "metadata": {
    "id": "d9c19273-51d1-4ef6-848f-3227e8f4ff39",
    "tags": []
   },
   "source": [
    "# Project Workflow\n",
    "\n",
    "- Construct a relational schema for Buffalo Tree Inventory dataset \n",
    "\n",
    "- Create DB and push data into the DB \n",
    "\n",
    "- Use sql queries to import Data\n",
    "\n",
    "- Perform Exploratory Data Analysis\n",
    "\n",
    "- Deploy predictive models - Multiple Linear Regression"
   ]
  },
  {
   "cell_type": "markdown",
   "metadata": {
    "id": "32760d38-9caa-473a-bd0d-13792155d78d",
    "tags": []
   },
   "source": [
    "## DB Schema\n",
    "```\n",
    "Editing Table\n",
    "Editing_id Primary Key\n",
    "Editing Text\n",
    "\n",
    "Name Table\n",
    "Name_id Primary Key\n",
    "Botanical Name Text\n",
    "Common Name Text\n",
    "\n",
    "District Table\n",
    "District_id primary key\n",
    "Council District\n",
    "\n",
    "Location Table\n",
    "Site ID primary key\n",
    "Editing_Id oreign key Editing Table\n",
    "District_id foreign key District Table\n",
    "name_id foreign key Name Table\n",
    "Address\n",
    "Street\n",
    "Side\n",
    "Latitude\n",
    "Longitude\n",
    "Park_Name\n",
    "\n",
    "Benefits\n",
    "Site_id primary key\n",
    "Total Yearly Eco Benefits (usd)\n",
    "Stormwater Benefits (usd)\n",
    "Stormwater Gallons Saved\n",
    "Greenhouse CO2 Benefits (usd)\n",
    "CO2 Avoided (in lbs)\n",
    "CO2 Sequestered (in lbs.)\n",
    "Energy Benefits (usd)\n",
    "kWh Saved\n",
    "Therms Saved\n",
    "Air Quality Benefits (usd)\n",
    "Pollutants Saved (usd)\n",
    "Property Benefits (usd)\n",
    "\n",
    "Tree Dim Table\n",
    "Site_id primary key\n",
    "dbh (Diameter in inches)\n",
    "Leaf Surface Area (in sq. ft.)\n",
    "```"
   ]
  },
  {
   "cell_type": "markdown",
   "metadata": {
    "id": "9f1eb00f-c281-4fd4-976d-9591383e8e0c",
    "tags": []
   },
   "source": [
    "## Creating DB and Inserting into DB"
   ]
  },
  {
   "cell_type": "code",
   "execution_count": null,
   "metadata": {
    "id": "436f40c5-0ec0-40c7-9ee2-dfd912e7fa24",
    "tags": []
   },
   "outputs": [],
   "source": [
    "# Db Functions \n",
    "\n",
    "def create_connection(db_file, delete_db=False):\n",
    "    import os\n",
    "    if delete_db and os.path.exists(db_file):\n",
    "        os.remove(db_file)\n",
    "\n",
    "    conn = None\n",
    "    try:\n",
    "        conn = sqlite3.connect(db_file)\n",
    "        conn.execute(\"PRAGMA foreign_keys = 1\")\n",
    "    except Error as e:\n",
    "        print(e)\n",
    "\n",
    "    return conn\n",
    "\n",
    "def create_table(conn, create_table_sql, drop_table_name=None):\n",
    "    if drop_table_name:  # You can optionally pass drop_table_name to drop the table.\n",
    "        try:\n",
    "            c = conn.cursor()\n",
    "            c.execute(\"\"\"DROP TABLE IF EXISTS %s\"\"\" % (drop_table_name))\n",
    "        except Error as e:\n",
    "            print(e)\n",
    "\n",
    "    try:\n",
    "        c = conn.cursor()\n",
    "        c.execute(create_table_sql)\n",
    "    except Error as e:\n",
    "        print(e)\n",
    "\n",
    "def execute_sql_statement(sql_statement, insert_data,conn):\n",
    "    cur = conn.cursor()\n",
    "\n",
    "    cur.execute\n",
    "    \n",
    "    emany(sql_statement,insert_data)\n",
    "\n",
    "    rows = cur.fetchall()\n",
    "    #return rows\n",
    "\n",
    "def df_sql(df,table_name,conn):\n",
    "    df.to_sql(table_name,con = conn,if_exists='append',index=False)\n",
    "\n"
   ]
  },
  {
   "cell_type": "code",
   "execution_count": null,
   "metadata": {
    "id": "98d0af2a-953b-4a94-aa7a-e4bc4d0ad803",
    "tags": []
   },
   "outputs": [],
   "source": [
    "# Sql Create Statements\n",
    "\n",
    "create_edition_table = \"\"\"CREATE TABLE Editing(\n",
    "Editing_id integer NOT NULL PRIMARY KEY,\n",
    "Editing text not null)\"\"\"\n",
    "\n",
    "create_name_table = \"\"\"CREATE TABLE Name(\n",
    "Name_id Integer NOT NULL PRIMARY KEY,\n",
    "Botanical_Name text not null,\n",
    "Common_Name text not null);\"\"\"\n",
    "\n",
    "create_district_table = \"\"\"CREATE TABLE District(\n",
    "District_id integer NOT NULL PRIMARY KEY,\n",
    "Council_District text not null);\"\"\"\n",
    "\n",
    "create_location_table = \"\"\"CREATE TABLE Location(\n",
    "Site_id integer NOT NULL PRIMARY KEY,\n",
    "District_id integer NOT NULL,\n",
    "name_id integer NOT NULL,\n",
    "Editing_id integer NOT NULL,\n",
    "Address text not null,\n",
    "Street text not null,\n",
    "Side text not null,\n",
    "Longitude text not null,\n",
    "Latitude text not null,\n",
    "Park_Name text,\n",
    "FOREIGN KEY(District_id) REFERENCES District(District_id),\n",
    "FOREIGN KEY(name_id) REFERENCES Name(name_id),\n",
    "FOREIGN KEY(Editing_id) REFERENCES Editing(Editing_id));\"\"\"\n",
    "\n",
    "create_tree_dim_table = \"\"\"CREATE TABLE Tree_Dim\n",
    "    (Site_id integer NOT NULL PRIMARY KEY,\n",
    "    dbh  float not null,\n",
    "    Leaf_Surface_Area float not null);\"\"\"\n",
    "\n",
    "create_benefits_table = \"\"\"CREATE TABLE Benefits\n",
    "    (Site_id integer NOT NULL PRIMARY KEY,\n",
    "    Total_Yearly_Eco_Benefits  float not null,\n",
    "    Stormwater_Benefits float not null,\n",
    "    Stormwater_Gallons float not null,\n",
    "    Greenhouse_CO2_Benefits float not null,\n",
    "    CO2_Avoided float not null,\n",
    "    CO2_Sequestered float not null,\n",
    "    Energy_Benefits float not null,\n",
    "    kWh_Saved float not null,\n",
    "    Therms_Saved float not null,\n",
    "    Air_Quality_Benefits float not null,\n",
    "    Pollutants_Saved float not null,\n",
    "    Property_Benefits float not null\n",
    "    );\"\"\""
   ]
  },
  {
   "cell_type": "code",
   "execution_count": null,
   "metadata": {
    "id": "573695f7-46c4-49d9-a84f-bb912f1f3439",
    "tags": []
   },
   "outputs": [],
   "source": [
    "# Connection \n",
    "\n",
    "conn = create_connection('buffalo_tree.db',True)"
   ]
  },
  {
   "cell_type": "code",
   "execution_count": null,
   "metadata": {
    "id": "24d2a3e7-c043-4560-8af4-6b7ba3d63fff",
    "tags": []
   },
   "outputs": [],
   "source": [
    "# Other junk removing functions \n",
    "\n",
    "def cleanup(x):\n",
    "    if type(x) == str:\n",
    "        if x.startswith(\"*\") == True:\n",
    "            return '0'\n",
    "        elif x.isdigit() == True:\n",
    "            return '0'\n",
    "        else:\n",
    "            return x\n",
    "    else:\n",
    "        return x\n",
    "\n",
    "def cleanup_ad(x):\n",
    "    if x > 3500:\n",
    "        return 0\n",
    "    else:\n",
    "        return x"
   ]
  },
  {
   "cell_type": "markdown",
   "metadata": {
    "id": "83d6aac1-7085-44ae-a68c-2eafc09d2443",
    "tags": []
   },
   "source": [
    "# A Glimpse of DB Tables"
   ]
  },
  {
   "cell_type": "markdown",
   "metadata": {
    "id": "469af0af-c72a-45d7-8257-b70c2a449904",
    "tags": []
   },
   "source": [
    "## Editing Table "
   ]
  },
  {
   "cell_type": "code",
   "execution_count": null,
   "metadata": {
    "id": "ec272166-9fc4-41e2-8840-8cc732779bd8",
    "tags": []
   },
   "outputs": [],
   "source": [
    "# Editing Table \n",
    "\n",
    "editing_tab = create_table(conn,create_edition_table,drop_table_name=\"Editing\")\n",
    "editing = tree_df[['Editing']]\n",
    "editing = editing.drop_duplicates(subset = ['Editing'],inplace=False,ignore_index=True)\n",
    "editing = editing.sort_values(by=['Editing'])\n",
    "insert_editing = df_sql(editing,\"Editing\",conn)\n"
   ]
  },
  {
   "cell_type": "code",
   "execution_count": null,
   "metadata": {
    "colab": {
     "base_uri": "https://localhost:8080/",
     "height": 176
    },
    "executionInfo": {
     "elapsed": 12,
     "status": "ok",
     "timestamp": 1639879713633,
     "user": {
      "displayName": "Nikhil Sharma",
      "photoUrl": "https://lh3.googleusercontent.com/a-/AOh14Gj7gHWG4JEF4-8bttI9vPHjclquT1FoMg0qQzua=s64",
      "userId": "06709591125112855864"
     },
     "user_tz": 300
    },
    "id": "6e971308-4bb0-44a6-af06-ea869f3932da",
    "outputId": "f791e205-8b5b-41ba-cef8-e0bffbb12832",
    "tags": []
   },
   "outputs": [
    {
     "data": {
      "text/html": [
       "\n",
       "  <div id=\"df-4c191bae-bb6f-46d6-a398-72d3539f65a4\">\n",
       "    <div class=\"colab-df-container\">\n",
       "      <div>\n",
       "<style scoped>\n",
       "    .dataframe tbody tr th:only-of-type {\n",
       "        vertical-align: middle;\n",
       "    }\n",
       "\n",
       "    .dataframe tbody tr th {\n",
       "        vertical-align: top;\n",
       "    }\n",
       "\n",
       "    .dataframe thead th {\n",
       "        text-align: right;\n",
       "    }\n",
       "</style>\n",
       "<table border=\"1\" class=\"dataframe\">\n",
       "  <thead>\n",
       "    <tr style=\"text-align: center;\">\n",
       "      <th></th>\n",
       "      <th>Editing_id</th>\n",
       "      <th>Editing</th>\n",
       "    </tr>\n",
       "  </thead>\n",
       "  <tbody>\n",
       "    <tr>\n",
       "      <th>0</th>\n",
       "      <td>1</td>\n",
       "      <td>Buffalo</td>\n",
       "    </tr>\n",
       "    <tr>\n",
       "      <th>1</th>\n",
       "      <td>2</td>\n",
       "      <td>Olmsted</td>\n",
       "    </tr>\n",
       "  </tbody>\n",
       "</table>\n",
       "</div>\n",
       "      <button class=\"colab-df-convert\" onclick=\"convertToInteractive('df-4c191bae-bb6f-46d6-a398-72d3539f65a4')\"\n",
       "              title=\"Convert this dataframe to an interactive table.\"\n",
       "              style=\"display:none;\">\n",
       "        \n",
       "  <svg xmlns=\"http://www.w3.org/2000/svg\" height=\"24px\"viewBox=\"0 0 24 24\"\n",
       "       width=\"24px\">\n",
       "    <path d=\"M0 0h24v24H0V0z\" fill=\"none\"/>\n",
       "    <path d=\"M18.56 5.44l.94 2.06.94-2.06 2.06-.94-2.06-.94-.94-2.06-.94 2.06-2.06.94zm-11 1L8.5 8.5l.94-2.06 2.06-.94-2.06-.94L8.5 2.5l-.94 2.06-2.06.94zm10 10l.94 2.06.94-2.06 2.06-.94-2.06-.94-.94-2.06-.94 2.06-2.06.94z\"/><path d=\"M17.41 7.96l-1.37-1.37c-.4-.4-.92-.59-1.43-.59-.52 0-1.04.2-1.43.59L10.3 9.45l-7.72 7.72c-.78.78-.78 2.05 0 2.83L4 21.41c.39.39.9.59 1.41.59.51 0 1.02-.2 1.41-.59l7.78-7.78 2.81-2.81c.8-.78.8-2.07 0-2.86zM5.41 20L4 18.59l7.72-7.72 1.47 1.35L5.41 20z\"/>\n",
       "  </svg>\n",
       "      </button>\n",
       "      \n",
       "  <style>\n",
       "    .colab-df-container {\n",
       "      display:flex;\n",
       "      flex-wrap:wrap;\n",
       "      gap: 12px;\n",
       "    }\n",
       "\n",
       "    .colab-df-convert {\n",
       "      background-color: #E8F0FE;\n",
       "      border: none;\n",
       "      border-radius: 50%;\n",
       "      cursor: pointer;\n",
       "      display: none;\n",
       "      fill: #1967D2;\n",
       "      height: 32px;\n",
       "      padding: 0 0 0 0;\n",
       "      width: 32px;\n",
       "    }\n",
       "\n",
       "    .colab-df-convert:hover {\n",
       "      background-color: #E2EBFA;\n",
       "      box-shadow: 0px 1px 2px rgba(60, 64, 67, 0.3), 0px 1px 3px 1px rgba(60, 64, 67, 0.15);\n",
       "      fill: #174EA6;\n",
       "    }\n",
       "\n",
       "    [theme=dark] .colab-df-convert {\n",
       "      background-color: #3B4455;\n",
       "      fill: #D2E3FC;\n",
       "    }\n",
       "\n",
       "    [theme=dark] .colab-df-convert:hover {\n",
       "      background-color: #434B5C;\n",
       "      box-shadow: 0px 1px 3px 1px rgba(0, 0, 0, 0.15);\n",
       "      filter: drop-shadow(0px 1px 2px rgba(0, 0, 0, 0.3));\n",
       "      fill: #FFFFFF;\n",
       "    }\n",
       "  </style>\n",
       "\n",
       "      <script>\n",
       "        const buttonEl =\n",
       "          document.querySelector('#df-4c191bae-bb6f-46d6-a398-72d3539f65a4 button.colab-df-convert');\n",
       "        buttonEl.style.display =\n",
       "          google.colab.kernel.accessAllowed ? 'block' : 'none';\n",
       "\n",
       "        async function convertToInteractive(key) {\n",
       "          const element = document.querySelector('#df-4c191bae-bb6f-46d6-a398-72d3539f65a4');\n",
       "          const dataTable =\n",
       "            await google.colab.kernel.invokeFunction('convertToInteractive',\n",
       "                                                     [key], {});\n",
       "          if (!dataTable) return;\n",
       "\n",
       "          const docLinkHtml = 'Like what you see? Visit the ' +\n",
       "            '<a target=\"_blank\" href=https://colab.research.google.com/notebooks/data_table.ipynb>data table notebook</a>'\n",
       "            + ' to learn more about interactive tables.';\n",
       "          element.innerHTML = '';\n",
       "          dataTable['output_type'] = 'display_data';\n",
       "          await google.colab.output.renderOutput(dataTable, element);\n",
       "          const docLink = document.createElement('div');\n",
       "          docLink.innerHTML = docLinkHtml;\n",
       "          element.appendChild(docLink);\n",
       "        }\n",
       "      </script>\n",
       "    </div>\n",
       "  </div>\n",
       "  "
      ],
      "text/plain": [
       "   Editing_id Editing \n",
       "0       1      Buffalo\n",
       "1       2      Olmsted"
      ]
     },
     "metadata": {},
     "output_type": "display_data"
    }
   ],
   "source": [
    "# Display Editing\n",
    "\n",
    "editing_to_print = pd.read_sql_query(\"\"\"SELECT * FROM Editing\"\"\",conn)\n",
    "display(editing_to_print.head())"
   ]
  },
  {
   "cell_type": "markdown",
   "metadata": {
    "id": "c144926f-13e7-4060-92e5-371a6b539caf",
    "tags": []
   },
   "source": [
    "## Names Table"
   ]
  },
  {
   "cell_type": "code",
   "execution_count": null,
   "metadata": {
    "id": "1d4611d7-daac-485f-b627-8abfd8de0640",
    "tags": []
   },
   "outputs": [],
   "source": [
    "# Tree names table \n",
    "\n",
    "names_table = create_table(conn,create_name_table,'Name')\n",
    "names = tree_df[['Botanical_Name','Common_Name']]\n",
    "names_new = pd.DataFrame(names.applymap(cleanup))\n",
    "names_new = names_new.drop_duplicates(subset = ['Botanical_Name','Common_Name'],inplace=False,ignore_index=True)\n",
    "names_new = names_new.sort_values(by = ['Botanical_Name'])\n",
    "insert_tree = df_sql(names_new,'Name',conn)"
   ]
  },
  {
   "cell_type": "code",
   "execution_count": null,
   "metadata": {
    "colab": {
     "base_uri": "https://localhost:8080/",
     "height": 339
    },
    "executionInfo": {
     "elapsed": 11,
     "status": "ok",
     "timestamp": 1639879713634,
     "user": {
      "displayName": "Nikhil Sharma",
      "photoUrl": "https://lh3.googleusercontent.com/a-/AOh14Gj7gHWG4JEF4-8bttI9vPHjclquT1FoMg0qQzua=s64",
      "userId": "06709591125112855864"
     },
     "user_tz": 300
    },
    "id": "2018e62d-53f2-4321-85f7-4c98f0a0deab",
    "outputId": "46e76304-1a97-4c86-a708-317617355594",
    "tags": []
   },
   "outputs": [
    {
     "data": {
      "text/html": [
       "\n",
       "  <div id=\"df-779843c0-d70c-4988-843f-0d276569a2bd\">\n",
       "    <div class=\"colab-df-container\">\n",
       "      <div>\n",
       "<style scoped>\n",
       "    .dataframe tbody tr th:only-of-type {\n",
       "        vertical-align: middle;\n",
       "    }\n",
       "\n",
       "    .dataframe tbody tr th {\n",
       "        vertical-align: top;\n",
       "    }\n",
       "\n",
       "    .dataframe thead th {\n",
       "        text-align: right;\n",
       "    }\n",
       "</style>\n",
       "<table border=\"1\" class=\"dataframe\">\n",
       "  <thead>\n",
       "    <tr style=\"text-align: center;\">\n",
       "      <th></th>\n",
       "      <th>Name_id</th>\n",
       "      <th>Botanical_Name</th>\n",
       "      <th>Common_Name</th>\n",
       "    </tr>\n",
       "  </thead>\n",
       "  <tbody>\n",
       "    <tr>\n",
       "      <th>0</th>\n",
       "      <td>1</td>\n",
       "      <td>0</td>\n",
       "      <td>0</td>\n",
       "    </tr>\n",
       "    <tr>\n",
       "      <th>1</th>\n",
       "      <td>2</td>\n",
       "      <td>ABIES BALSAMEA</td>\n",
       "      <td>FIR, BALSAM</td>\n",
       "    </tr>\n",
       "    <tr>\n",
       "      <th>2</th>\n",
       "      <td>3</td>\n",
       "      <td>ABIES CONCOLOR</td>\n",
       "      <td>FIR, WHITE</td>\n",
       "    </tr>\n",
       "    <tr>\n",
       "      <th>3</th>\n",
       "      <td>4</td>\n",
       "      <td>ACER CAMPESTRE</td>\n",
       "      <td>MAPLE, HEDGE</td>\n",
       "    </tr>\n",
       "    <tr>\n",
       "      <th>4</th>\n",
       "      <td>5</td>\n",
       "      <td>ACER CAPPADOCICUM</td>\n",
       "      <td>MAPLE, COLISEUM</td>\n",
       "    </tr>\n",
       "  </tbody>\n",
       "</table>\n",
       "</div>\n",
       "      <button class=\"colab-df-convert\" onclick=\"convertToInteractive('df-779843c0-d70c-4988-843f-0d276569a2bd')\"\n",
       "              title=\"Convert this dataframe to an interactive table.\"\n",
       "              style=\"display:none;\">\n",
       "        \n",
       "  <svg xmlns=\"http://www.w3.org/2000/svg\" height=\"24px\"viewBox=\"0 0 24 24\"\n",
       "       width=\"24px\">\n",
       "    <path d=\"M0 0h24v24H0V0z\" fill=\"none\"/>\n",
       "    <path d=\"M18.56 5.44l.94 2.06.94-2.06 2.06-.94-2.06-.94-.94-2.06-.94 2.06-2.06.94zm-11 1L8.5 8.5l.94-2.06 2.06-.94-2.06-.94L8.5 2.5l-.94 2.06-2.06.94zm10 10l.94 2.06.94-2.06 2.06-.94-2.06-.94-.94-2.06-.94 2.06-2.06.94z\"/><path d=\"M17.41 7.96l-1.37-1.37c-.4-.4-.92-.59-1.43-.59-.52 0-1.04.2-1.43.59L10.3 9.45l-7.72 7.72c-.78.78-.78 2.05 0 2.83L4 21.41c.39.39.9.59 1.41.59.51 0 1.02-.2 1.41-.59l7.78-7.78 2.81-2.81c.8-.78.8-2.07 0-2.86zM5.41 20L4 18.59l7.72-7.72 1.47 1.35L5.41 20z\"/>\n",
       "  </svg>\n",
       "      </button>\n",
       "      \n",
       "  <style>\n",
       "    .colab-df-container {\n",
       "      display:flex;\n",
       "      flex-wrap:wrap;\n",
       "      gap: 12px;\n",
       "    }\n",
       "\n",
       "    .colab-df-convert {\n",
       "      background-color: #E8F0FE;\n",
       "      border: none;\n",
       "      border-radius: 50%;\n",
       "      cursor: pointer;\n",
       "      display: none;\n",
       "      fill: #1967D2;\n",
       "      height: 32px;\n",
       "      padding: 0 0 0 0;\n",
       "      width: 32px;\n",
       "    }\n",
       "\n",
       "    .colab-df-convert:hover {\n",
       "      background-color: #E2EBFA;\n",
       "      box-shadow: 0px 1px 2px rgba(60, 64, 67, 0.3), 0px 1px 3px 1px rgba(60, 64, 67, 0.15);\n",
       "      fill: #174EA6;\n",
       "    }\n",
       "\n",
       "    [theme=dark] .colab-df-convert {\n",
       "      background-color: #3B4455;\n",
       "      fill: #D2E3FC;\n",
       "    }\n",
       "\n",
       "    [theme=dark] .colab-df-convert:hover {\n",
       "      background-color: #434B5C;\n",
       "      box-shadow: 0px 1px 3px 1px rgba(0, 0, 0, 0.15);\n",
       "      filter: drop-shadow(0px 1px 2px rgba(0, 0, 0, 0.3));\n",
       "      fill: #FFFFFF;\n",
       "    }\n",
       "  </style>\n",
       "\n",
       "      <script>\n",
       "        const buttonEl =\n",
       "          document.querySelector('#df-779843c0-d70c-4988-843f-0d276569a2bd button.colab-df-convert');\n",
       "        buttonEl.style.display =\n",
       "          google.colab.kernel.accessAllowed ? 'block' : 'none';\n",
       "\n",
       "        async function convertToInteractive(key) {\n",
       "          const element = document.querySelector('#df-779843c0-d70c-4988-843f-0d276569a2bd');\n",
       "          const dataTable =\n",
       "            await google.colab.kernel.invokeFunction('convertToInteractive',\n",
       "                                                     [key], {});\n",
       "          if (!dataTable) return;\n",
       "\n",
       "          const docLinkHtml = 'Like what you see? Visit the ' +\n",
       "            '<a target=\"_blank\" href=https://colab.research.google.com/notebooks/data_table.ipynb>data table notebook</a>'\n",
       "            + ' to learn more about interactive tables.';\n",
       "          element.innerHTML = '';\n",
       "          dataTable['output_type'] = 'display_data';\n",
       "          await google.colab.output.renderOutput(dataTable, element);\n",
       "          const docLink = document.createElement('div');\n",
       "          docLink.innerHTML = docLinkHtml;\n",
       "          element.appendChild(docLink);\n",
       "        }\n",
       "      </script>\n",
       "    </div>\n",
       "  </div>\n",
       "  "
      ],
      "text/plain": [
       "   Name_id   Botanical_Name     Common_Name   \n",
       "0     1                     0                0\n",
       "1     2        ABIES BALSAMEA      FIR, BALSAM\n",
       "2     3        ABIES CONCOLOR       FIR, WHITE\n",
       "3     4        ACER CAMPESTRE     MAPLE, HEDGE\n",
       "4     5     ACER CAPPADOCICUM  MAPLE, COLISEUM"
      ]
     },
     "metadata": {},
     "output_type": "display_data"
    }
   ],
   "source": [
    "# Display Tree Names table\n",
    "\n",
    "name_to_print = pd.read_sql_query(\"\"\"SELECT * FROM Name\"\"\",conn)\n",
    "display(name_to_print.head())"
   ]
  },
  {
   "cell_type": "markdown",
   "metadata": {
    "id": "f5f50a5f-fe01-4ebe-b217-5a4c99041e71",
    "tags": []
   },
   "source": [
    "## District Table "
   ]
  },
  {
   "cell_type": "code",
   "execution_count": null,
   "metadata": {
    "id": "af48d02d-02e8-4922-939b-02bb20c28945",
    "tags": []
   },
   "outputs": [],
   "source": [
    "# District Table \n",
    "\n",
    "dist_table = create_table(conn,create_district_table,\"District\")\n",
    "dist_final = tree_df[['Council_District']]\n",
    "dist_final = dist_final.drop_duplicates(subset = ['Council_District'],inplace=False,ignore_index=True)\n",
    "dist_final = dist_final.sort_values(by = ['Council_District'])\n",
    "insert_dist = df_sql(dist_final,\"District\",conn)"
   ]
  },
  {
   "cell_type": "code",
   "execution_count": null,
   "metadata": {
    "colab": {
     "base_uri": "https://localhost:8080/",
     "height": 270
    },
    "executionInfo": {
     "elapsed": 10,
     "status": "ok",
     "timestamp": 1639879713634,
     "user": {
      "displayName": "Nikhil Sharma",
      "photoUrl": "https://lh3.googleusercontent.com/a-/AOh14Gj7gHWG4JEF4-8bttI9vPHjclquT1FoMg0qQzua=s64",
      "userId": "06709591125112855864"
     },
     "user_tz": 300
    },
    "id": "0f778f00-9573-4361-be6e-543a0734a183",
    "outputId": "6cc3bf58-071c-4de8-c1dc-3f2f50fbe497",
    "tags": []
   },
   "outputs": [
    {
     "data": {
      "text/html": [
       "\n",
       "  <div id=\"df-d9476ea0-3038-4d85-97e2-c2fd8dced6a9\">\n",
       "    <div class=\"colab-df-container\">\n",
       "      <div>\n",
       "<style scoped>\n",
       "    .dataframe tbody tr th:only-of-type {\n",
       "        vertical-align: middle;\n",
       "    }\n",
       "\n",
       "    .dataframe tbody tr th {\n",
       "        vertical-align: top;\n",
       "    }\n",
       "\n",
       "    .dataframe thead th {\n",
       "        text-align: right;\n",
       "    }\n",
       "</style>\n",
       "<table border=\"1\" class=\"dataframe\">\n",
       "  <thead>\n",
       "    <tr style=\"text-align: center;\">\n",
       "      <th></th>\n",
       "      <th>District_id</th>\n",
       "      <th>Council_District</th>\n",
       "    </tr>\n",
       "  </thead>\n",
       "  <tbody>\n",
       "    <tr>\n",
       "      <th>0</th>\n",
       "      <td>1</td>\n",
       "      <td>DELAWARE</td>\n",
       "    </tr>\n",
       "    <tr>\n",
       "      <th>1</th>\n",
       "      <td>2</td>\n",
       "      <td>ELLICOTT</td>\n",
       "    </tr>\n",
       "    <tr>\n",
       "      <th>2</th>\n",
       "      <td>3</td>\n",
       "      <td>FILLMORE</td>\n",
       "    </tr>\n",
       "    <tr>\n",
       "      <th>3</th>\n",
       "      <td>4</td>\n",
       "      <td>LOVEJOY</td>\n",
       "    </tr>\n",
       "    <tr>\n",
       "      <th>4</th>\n",
       "      <td>5</td>\n",
       "      <td>MASTEN</td>\n",
       "    </tr>\n",
       "  </tbody>\n",
       "</table>\n",
       "</div>\n",
       "      <button class=\"colab-df-convert\" onclick=\"convertToInteractive('df-d9476ea0-3038-4d85-97e2-c2fd8dced6a9')\"\n",
       "              title=\"Convert this dataframe to an interactive table.\"\n",
       "              style=\"display:none;\">\n",
       "        \n",
       "  <svg xmlns=\"http://www.w3.org/2000/svg\" height=\"24px\"viewBox=\"0 0 24 24\"\n",
       "       width=\"24px\">\n",
       "    <path d=\"M0 0h24v24H0V0z\" fill=\"none\"/>\n",
       "    <path d=\"M18.56 5.44l.94 2.06.94-2.06 2.06-.94-2.06-.94-.94-2.06-.94 2.06-2.06.94zm-11 1L8.5 8.5l.94-2.06 2.06-.94-2.06-.94L8.5 2.5l-.94 2.06-2.06.94zm10 10l.94 2.06.94-2.06 2.06-.94-2.06-.94-.94-2.06-.94 2.06-2.06.94z\"/><path d=\"M17.41 7.96l-1.37-1.37c-.4-.4-.92-.59-1.43-.59-.52 0-1.04.2-1.43.59L10.3 9.45l-7.72 7.72c-.78.78-.78 2.05 0 2.83L4 21.41c.39.39.9.59 1.41.59.51 0 1.02-.2 1.41-.59l7.78-7.78 2.81-2.81c.8-.78.8-2.07 0-2.86zM5.41 20L4 18.59l7.72-7.72 1.47 1.35L5.41 20z\"/>\n",
       "  </svg>\n",
       "      </button>\n",
       "      \n",
       "  <style>\n",
       "    .colab-df-container {\n",
       "      display:flex;\n",
       "      flex-wrap:wrap;\n",
       "      gap: 12px;\n",
       "    }\n",
       "\n",
       "    .colab-df-convert {\n",
       "      background-color: #E8F0FE;\n",
       "      border: none;\n",
       "      border-radius: 50%;\n",
       "      cursor: pointer;\n",
       "      display: none;\n",
       "      fill: #1967D2;\n",
       "      height: 32px;\n",
       "      padding: 0 0 0 0;\n",
       "      width: 32px;\n",
       "    }\n",
       "\n",
       "    .colab-df-convert:hover {\n",
       "      background-color: #E2EBFA;\n",
       "      box-shadow: 0px 1px 2px rgba(60, 64, 67, 0.3), 0px 1px 3px 1px rgba(60, 64, 67, 0.15);\n",
       "      fill: #174EA6;\n",
       "    }\n",
       "\n",
       "    [theme=dark] .colab-df-convert {\n",
       "      background-color: #3B4455;\n",
       "      fill: #D2E3FC;\n",
       "    }\n",
       "\n",
       "    [theme=dark] .colab-df-convert:hover {\n",
       "      background-color: #434B5C;\n",
       "      box-shadow: 0px 1px 3px 1px rgba(0, 0, 0, 0.15);\n",
       "      filter: drop-shadow(0px 1px 2px rgba(0, 0, 0, 0.3));\n",
       "      fill: #FFFFFF;\n",
       "    }\n",
       "  </style>\n",
       "\n",
       "      <script>\n",
       "        const buttonEl =\n",
       "          document.querySelector('#df-d9476ea0-3038-4d85-97e2-c2fd8dced6a9 button.colab-df-convert');\n",
       "        buttonEl.style.display =\n",
       "          google.colab.kernel.accessAllowed ? 'block' : 'none';\n",
       "\n",
       "        async function convertToInteractive(key) {\n",
       "          const element = document.querySelector('#df-d9476ea0-3038-4d85-97e2-c2fd8dced6a9');\n",
       "          const dataTable =\n",
       "            await google.colab.kernel.invokeFunction('convertToInteractive',\n",
       "                                                     [key], {});\n",
       "          if (!dataTable) return;\n",
       "\n",
       "          const docLinkHtml = 'Like what you see? Visit the ' +\n",
       "            '<a target=\"_blank\" href=https://colab.research.google.com/notebooks/data_table.ipynb>data table notebook</a>'\n",
       "            + ' to learn more about interactive tables.';\n",
       "          element.innerHTML = '';\n",
       "          dataTable['output_type'] = 'display_data';\n",
       "          await google.colab.output.renderOutput(dataTable, element);\n",
       "          const docLink = document.createElement('div');\n",
       "          docLink.innerHTML = docLinkHtml;\n",
       "          element.appendChild(docLink);\n",
       "        }\n",
       "      </script>\n",
       "    </div>\n",
       "  </div>\n",
       "  "
      ],
      "text/plain": [
       "   District_id Council_District\n",
       "0       1          DELAWARE    \n",
       "1       2          ELLICOTT    \n",
       "2       3          FILLMORE    \n",
       "3       4           LOVEJOY    \n",
       "4       5            MASTEN    "
      ]
     },
     "metadata": {},
     "output_type": "display_data"
    }
   ],
   "source": [
    "# Display District Table\n",
    "\n",
    "dist_to_print = pd.read_sql_query(\"\"\"SELECT * FROM District\"\"\",conn)\n",
    "display(dist_to_print.head())"
   ]
  },
  {
   "cell_type": "markdown",
   "metadata": {
    "id": "73189a15-a6a2-4080-8fbe-3dd227d7fa3c",
    "tags": []
   },
   "source": [
    "## Location Table "
   ]
  },
  {
   "cell_type": "code",
   "execution_count": null,
   "metadata": {
    "id": "2914c800-e7cd-4bb4-96f3-447ce9323a27",
    "tags": []
   },
   "outputs": [],
   "source": [
    "# Location Table \n",
    "\n",
    "creat_location = create_table(conn,create_location_table,\"Location\")\n",
    "\n",
    "loc_data = tree_df[['Site_ID','Editing','Council_District','Address','Street','Side','Latitude','Longitude','Park_Name']]\n",
    "tree_name = tree_df[['Botanical_Name','Common_Name']]\n",
    "tree_name = pd.DataFrame(tree_name.applymap(cleanup))\n",
    "loc_data = pd.concat([tree_name,loc_data],axis=1)\n",
    "\n",
    "loc_data['Address'] = pd.DataFrame(loc_data['Address'].apply(cleanup_ad))\n",
    "loc_data['Street'] = pd.DataFrame(loc_data['Street'].apply(cleanup))\n",
    "dist_df = pd.read_sql_query(\"\"\"SELECT * FROM DISTRICT\"\"\",conn)\n",
    "name_df = pd.read_sql_query(\"\"\"SELECT * FROM Name\"\"\",conn)\n",
    "ed_df= pd.read_sql_query(\"\"\"SELECT * FROM Editing\"\"\",conn)\n",
    "loc_name = pd.merge(loc_data,name_df,how='left',on=['Botanical_Name','Common_Name'])\n",
    "loc_dist = pd.merge(loc_name,dist_df,how='left',on=['Council_District'])\n",
    "loc_ed = pd.merge(loc_dist,ed_df,how = 'left', on=['Editing'])\n",
    "loc_final = loc_ed[['Site_ID','Name_id','District_id','Editing_id','Address','Street','Side','Latitude','Longitude','Park_Name']]\n",
    "loc_final = loc_final.sort_values(by = ['Site_ID','Editing_id','District_id','Name_id'])\n",
    "insert_loc = df_sql(loc_final,\"Location\",conn)\n"
   ]
  },
  {
   "cell_type": "code",
   "execution_count": null,
   "metadata": {
    "colab": {
     "base_uri": "https://localhost:8080/",
     "height": 357
    },
    "executionInfo": {
     "elapsed": 767,
     "status": "ok",
     "timestamp": 1639879715972,
     "user": {
      "displayName": "Nikhil Sharma",
      "photoUrl": "https://lh3.googleusercontent.com/a-/AOh14Gj7gHWG4JEF4-8bttI9vPHjclquT1FoMg0qQzua=s64",
      "userId": "06709591125112855864"
     },
     "user_tz": 300
    },
    "id": "85d63bc8-e79a-407e-b866-973bf0c34f75",
    "outputId": "6d5d0a9b-8267-4847-bc07-04ad1b9c3e11",
    "tags": []
   },
   "outputs": [
    {
     "data": {
      "text/html": [
       "\n",
       "  <div id=\"df-65f5fd39-5b67-4671-872a-5f80629cfc8b\">\n",
       "    <div class=\"colab-df-container\">\n",
       "      <div>\n",
       "<style scoped>\n",
       "    .dataframe tbody tr th:only-of-type {\n",
       "        vertical-align: middle;\n",
       "    }\n",
       "\n",
       "    .dataframe tbody tr th {\n",
       "        vertical-align: top;\n",
       "    }\n",
       "\n",
       "    .dataframe thead th {\n",
       "        text-align: right;\n",
       "    }\n",
       "</style>\n",
       "<table border=\"1\" class=\"dataframe\">\n",
       "  <thead>\n",
       "    <tr style=\"text-align: center;\">\n",
       "      <th></th>\n",
       "      <th>Site_id</th>\n",
       "      <th>District_id</th>\n",
       "      <th>name_id</th>\n",
       "      <th>Editing_id</th>\n",
       "      <th>Address</th>\n",
       "      <th>Street</th>\n",
       "      <th>Side</th>\n",
       "      <th>Longitude</th>\n",
       "      <th>Latitude</th>\n",
       "      <th>Park_Name</th>\n",
       "    </tr>\n",
       "  </thead>\n",
       "  <tbody>\n",
       "    <tr>\n",
       "      <th>0</th>\n",
       "      <td>1</td>\n",
       "      <td>2</td>\n",
       "      <td>302</td>\n",
       "      <td>1</td>\n",
       "      <td>102</td>\n",
       "      <td>LANDON ST</td>\n",
       "      <td>Front</td>\n",
       "      <td>-78.8501072347482</td>\n",
       "      <td>42.9101597791483</td>\n",
       "      <td>0</td>\n",
       "    </tr>\n",
       "    <tr>\n",
       "      <th>1</th>\n",
       "      <td>2</td>\n",
       "      <td>2</td>\n",
       "      <td>302</td>\n",
       "      <td>1</td>\n",
       "      <td>104</td>\n",
       "      <td>LANDON ST</td>\n",
       "      <td>Front</td>\n",
       "      <td>-78.8499975937215</td>\n",
       "      <td>42.9101620927112</td>\n",
       "      <td>0</td>\n",
       "    </tr>\n",
       "    <tr>\n",
       "      <th>2</th>\n",
       "      <td>3</td>\n",
       "      <td>2</td>\n",
       "      <td>159</td>\n",
       "      <td>1</td>\n",
       "      <td>108</td>\n",
       "      <td>LANDON ST</td>\n",
       "      <td>Front</td>\n",
       "      <td>-78.8498842182782</td>\n",
       "      <td>42.9101644148642</td>\n",
       "      <td>0</td>\n",
       "    </tr>\n",
       "    <tr>\n",
       "      <th>3</th>\n",
       "      <td>4</td>\n",
       "      <td>2</td>\n",
       "      <td>302</td>\n",
       "      <td>1</td>\n",
       "      <td>110</td>\n",
       "      <td>LANDON ST</td>\n",
       "      <td>Front</td>\n",
       "      <td>-78.8497712534461</td>\n",
       "      <td>42.9101533588612</td>\n",
       "      <td>0</td>\n",
       "    </tr>\n",
       "    <tr>\n",
       "      <th>4</th>\n",
       "      <td>5</td>\n",
       "      <td>2</td>\n",
       "      <td>146</td>\n",
       "      <td>1</td>\n",
       "      <td>114</td>\n",
       "      <td>LANDON ST</td>\n",
       "      <td>Front</td>\n",
       "      <td>-78.8496532147033</td>\n",
       "      <td>42.9101556916383</td>\n",
       "      <td>0</td>\n",
       "    </tr>\n",
       "  </tbody>\n",
       "</table>\n",
       "</div>\n",
       "      <button class=\"colab-df-convert\" onclick=\"convertToInteractive('df-65f5fd39-5b67-4671-872a-5f80629cfc8b')\"\n",
       "              title=\"Convert this dataframe to an interactive table.\"\n",
       "              style=\"display:none;\">\n",
       "        \n",
       "  <svg xmlns=\"http://www.w3.org/2000/svg\" height=\"24px\"viewBox=\"0 0 24 24\"\n",
       "       width=\"24px\">\n",
       "    <path d=\"M0 0h24v24H0V0z\" fill=\"none\"/>\n",
       "    <path d=\"M18.56 5.44l.94 2.06.94-2.06 2.06-.94-2.06-.94-.94-2.06-.94 2.06-2.06.94zm-11 1L8.5 8.5l.94-2.06 2.06-.94-2.06-.94L8.5 2.5l-.94 2.06-2.06.94zm10 10l.94 2.06.94-2.06 2.06-.94-2.06-.94-.94-2.06-.94 2.06-2.06.94z\"/><path d=\"M17.41 7.96l-1.37-1.37c-.4-.4-.92-.59-1.43-.59-.52 0-1.04.2-1.43.59L10.3 9.45l-7.72 7.72c-.78.78-.78 2.05 0 2.83L4 21.41c.39.39.9.59 1.41.59.51 0 1.02-.2 1.41-.59l7.78-7.78 2.81-2.81c.8-.78.8-2.07 0-2.86zM5.41 20L4 18.59l7.72-7.72 1.47 1.35L5.41 20z\"/>\n",
       "  </svg>\n",
       "      </button>\n",
       "      \n",
       "  <style>\n",
       "    .colab-df-container {\n",
       "      display:flex;\n",
       "      flex-wrap:wrap;\n",
       "      gap: 12px;\n",
       "    }\n",
       "\n",
       "    .colab-df-convert {\n",
       "      background-color: #E8F0FE;\n",
       "      border: none;\n",
       "      border-radius: 50%;\n",
       "      cursor: pointer;\n",
       "      display: none;\n",
       "      fill: #1967D2;\n",
       "      height: 32px;\n",
       "      padding: 0 0 0 0;\n",
       "      width: 32px;\n",
       "    }\n",
       "\n",
       "    .colab-df-convert:hover {\n",
       "      background-color: #E2EBFA;\n",
       "      box-shadow: 0px 1px 2px rgba(60, 64, 67, 0.3), 0px 1px 3px 1px rgba(60, 64, 67, 0.15);\n",
       "      fill: #174EA6;\n",
       "    }\n",
       "\n",
       "    [theme=dark] .colab-df-convert {\n",
       "      background-color: #3B4455;\n",
       "      fill: #D2E3FC;\n",
       "    }\n",
       "\n",
       "    [theme=dark] .colab-df-convert:hover {\n",
       "      background-color: #434B5C;\n",
       "      box-shadow: 0px 1px 3px 1px rgba(0, 0, 0, 0.15);\n",
       "      filter: drop-shadow(0px 1px 2px rgba(0, 0, 0, 0.3));\n",
       "      fill: #FFFFFF;\n",
       "    }\n",
       "  </style>\n",
       "\n",
       "      <script>\n",
       "        const buttonEl =\n",
       "          document.querySelector('#df-65f5fd39-5b67-4671-872a-5f80629cfc8b button.colab-df-convert');\n",
       "        buttonEl.style.display =\n",
       "          google.colab.kernel.accessAllowed ? 'block' : 'none';\n",
       "\n",
       "        async function convertToInteractive(key) {\n",
       "          const element = document.querySelector('#df-65f5fd39-5b67-4671-872a-5f80629cfc8b');\n",
       "          const dataTable =\n",
       "            await google.colab.kernel.invokeFunction('convertToInteractive',\n",
       "                                                     [key], {});\n",
       "          if (!dataTable) return;\n",
       "\n",
       "          const docLinkHtml = 'Like what you see? Visit the ' +\n",
       "            '<a target=\"_blank\" href=https://colab.research.google.com/notebooks/data_table.ipynb>data table notebook</a>'\n",
       "            + ' to learn more about interactive tables.';\n",
       "          element.innerHTML = '';\n",
       "          dataTable['output_type'] = 'display_data';\n",
       "          await google.colab.output.renderOutput(dataTable, element);\n",
       "          const docLink = document.createElement('div');\n",
       "          docLink.innerHTML = docLinkHtml;\n",
       "          element.appendChild(docLink);\n",
       "        }\n",
       "      </script>\n",
       "    </div>\n",
       "  </div>\n",
       "  "
      ],
      "text/plain": [
       "   Site_id  District_id  name_id  Editing_id Address   Street    Side      Longitude           Latitude     Park_Name\n",
       "0     1          2         302         1        102   LANDON ST  Front  -78.8501072347482  42.9101597791483      0   \n",
       "1     2          2         302         1        104   LANDON ST  Front  -78.8499975937215  42.9101620927112      0   \n",
       "2     3          2         159         1        108   LANDON ST  Front  -78.8498842182782  42.9101644148642      0   \n",
       "3     4          2         302         1        110   LANDON ST  Front  -78.8497712534461  42.9101533588612      0   \n",
       "4     5          2         146         1        114   LANDON ST  Front  -78.8496532147033  42.9101556916383      0   "
      ]
     },
     "metadata": {},
     "output_type": "display_data"
    }
   ],
   "source": [
    "# Display Location Table \n",
    "\n",
    "loc_to_print = pd.read_sql_query(\"\"\"SELECT * FROM Location\"\"\",conn)\n",
    "display(loc_to_print.head())"
   ]
  },
  {
   "cell_type": "markdown",
   "metadata": {
    "id": "e69700dc-fab6-4962-af2f-971dce822d20",
    "tags": []
   },
   "source": [
    "## Tree Dimension table"
   ]
  },
  {
   "cell_type": "code",
   "execution_count": null,
   "metadata": {
    "id": "582fcdbe-c81c-4915-beef-bc9dc788db37",
    "tags": []
   },
   "outputs": [],
   "source": [
    "# Tree Dim\n",
    "\n",
    "tree_dim_table = create_table(conn,create_tree_dim_table,'Tree_Dim')\n",
    "dim_df = tree_df[['Site_ID','DBH','Leaf_Surface_Area']]\n",
    "dim_df = dim_df[dim_df['DBH']<1000]\n",
    "dim_df.drop_duplicates()\n",
    "insert_dim = df_sql(dim_df,'Tree_Dim',conn)\n"
   ]
  },
  {
   "cell_type": "code",
   "execution_count": null,
   "metadata": {
    "colab": {
     "base_uri": "https://localhost:8080/",
     "height": 270
    },
    "executionInfo": {
     "elapsed": 9,
     "status": "ok",
     "timestamp": 1639879716294,
     "user": {
      "displayName": "Nikhil Sharma",
      "photoUrl": "https://lh3.googleusercontent.com/a-/AOh14Gj7gHWG4JEF4-8bttI9vPHjclquT1FoMg0qQzua=s64",
      "userId": "06709591125112855864"
     },
     "user_tz": 300
    },
    "id": "f3fa048a-e76a-4fbf-bfb4-8a09a6fddf83",
    "outputId": "b6e54d3b-b991-4045-88da-be4e46fa64f4",
    "tags": []
   },
   "outputs": [
    {
     "data": {
      "text/html": [
       "\n",
       "  <div id=\"df-e4ede9ad-b23e-45c8-aaf2-7234963888a6\">\n",
       "    <div class=\"colab-df-container\">\n",
       "      <div>\n",
       "<style scoped>\n",
       "    .dataframe tbody tr th:only-of-type {\n",
       "        vertical-align: middle;\n",
       "    }\n",
       "\n",
       "    .dataframe tbody tr th {\n",
       "        vertical-align: top;\n",
       "    }\n",
       "\n",
       "    .dataframe thead th {\n",
       "        text-align: right;\n",
       "    }\n",
       "</style>\n",
       "<table border=\"1\" class=\"dataframe\">\n",
       "  <thead>\n",
       "    <tr style=\"text-align: center;\">\n",
       "      <th></th>\n",
       "      <th>Site_id</th>\n",
       "      <th>dbh</th>\n",
       "      <th>Leaf_Surface_Area</th>\n",
       "    </tr>\n",
       "  </thead>\n",
       "  <tbody>\n",
       "    <tr>\n",
       "      <th>0</th>\n",
       "      <td>1</td>\n",
       "      <td>0.0</td>\n",
       "      <td>0.00</td>\n",
       "    </tr>\n",
       "    <tr>\n",
       "      <th>1</th>\n",
       "      <td>2</td>\n",
       "      <td>0.0</td>\n",
       "      <td>0.00</td>\n",
       "    </tr>\n",
       "    <tr>\n",
       "      <th>2</th>\n",
       "      <td>3</td>\n",
       "      <td>4.0</td>\n",
       "      <td>30.40</td>\n",
       "    </tr>\n",
       "    <tr>\n",
       "      <th>3</th>\n",
       "      <td>4</td>\n",
       "      <td>0.0</td>\n",
       "      <td>0.00</td>\n",
       "    </tr>\n",
       "    <tr>\n",
       "      <th>4</th>\n",
       "      <td>5</td>\n",
       "      <td>4.0</td>\n",
       "      <td>20.75</td>\n",
       "    </tr>\n",
       "  </tbody>\n",
       "</table>\n",
       "</div>\n",
       "      <button class=\"colab-df-convert\" onclick=\"convertToInteractive('df-e4ede9ad-b23e-45c8-aaf2-7234963888a6')\"\n",
       "              title=\"Convert this dataframe to an interactive table.\"\n",
       "              style=\"display:none;\">\n",
       "        \n",
       "  <svg xmlns=\"http://www.w3.org/2000/svg\" height=\"24px\"viewBox=\"0 0 24 24\"\n",
       "       width=\"24px\">\n",
       "    <path d=\"M0 0h24v24H0V0z\" fill=\"none\"/>\n",
       "    <path d=\"M18.56 5.44l.94 2.06.94-2.06 2.06-.94-2.06-.94-.94-2.06-.94 2.06-2.06.94zm-11 1L8.5 8.5l.94-2.06 2.06-.94-2.06-.94L8.5 2.5l-.94 2.06-2.06.94zm10 10l.94 2.06.94-2.06 2.06-.94-2.06-.94-.94-2.06-.94 2.06-2.06.94z\"/><path d=\"M17.41 7.96l-1.37-1.37c-.4-.4-.92-.59-1.43-.59-.52 0-1.04.2-1.43.59L10.3 9.45l-7.72 7.72c-.78.78-.78 2.05 0 2.83L4 21.41c.39.39.9.59 1.41.59.51 0 1.02-.2 1.41-.59l7.78-7.78 2.81-2.81c.8-.78.8-2.07 0-2.86zM5.41 20L4 18.59l7.72-7.72 1.47 1.35L5.41 20z\"/>\n",
       "  </svg>\n",
       "      </button>\n",
       "      \n",
       "  <style>\n",
       "    .colab-df-container {\n",
       "      display:flex;\n",
       "      flex-wrap:wrap;\n",
       "      gap: 12px;\n",
       "    }\n",
       "\n",
       "    .colab-df-convert {\n",
       "      background-color: #E8F0FE;\n",
       "      border: none;\n",
       "      border-radius: 50%;\n",
       "      cursor: pointer;\n",
       "      display: none;\n",
       "      fill: #1967D2;\n",
       "      height: 32px;\n",
       "      padding: 0 0 0 0;\n",
       "      width: 32px;\n",
       "    }\n",
       "\n",
       "    .colab-df-convert:hover {\n",
       "      background-color: #E2EBFA;\n",
       "      box-shadow: 0px 1px 2px rgba(60, 64, 67, 0.3), 0px 1px 3px 1px rgba(60, 64, 67, 0.15);\n",
       "      fill: #174EA6;\n",
       "    }\n",
       "\n",
       "    [theme=dark] .colab-df-convert {\n",
       "      background-color: #3B4455;\n",
       "      fill: #D2E3FC;\n",
       "    }\n",
       "\n",
       "    [theme=dark] .colab-df-convert:hover {\n",
       "      background-color: #434B5C;\n",
       "      box-shadow: 0px 1px 3px 1px rgba(0, 0, 0, 0.15);\n",
       "      filter: drop-shadow(0px 1px 2px rgba(0, 0, 0, 0.3));\n",
       "      fill: #FFFFFF;\n",
       "    }\n",
       "  </style>\n",
       "\n",
       "      <script>\n",
       "        const buttonEl =\n",
       "          document.querySelector('#df-e4ede9ad-b23e-45c8-aaf2-7234963888a6 button.colab-df-convert');\n",
       "        buttonEl.style.display =\n",
       "          google.colab.kernel.accessAllowed ? 'block' : 'none';\n",
       "\n",
       "        async function convertToInteractive(key) {\n",
       "          const element = document.querySelector('#df-e4ede9ad-b23e-45c8-aaf2-7234963888a6');\n",
       "          const dataTable =\n",
       "            await google.colab.kernel.invokeFunction('convertToInteractive',\n",
       "                                                     [key], {});\n",
       "          if (!dataTable) return;\n",
       "\n",
       "          const docLinkHtml = 'Like what you see? Visit the ' +\n",
       "            '<a target=\"_blank\" href=https://colab.research.google.com/notebooks/data_table.ipynb>data table notebook</a>'\n",
       "            + ' to learn more about interactive tables.';\n",
       "          element.innerHTML = '';\n",
       "          dataTable['output_type'] = 'display_data';\n",
       "          await google.colab.output.renderOutput(dataTable, element);\n",
       "          const docLink = document.createElement('div');\n",
       "          docLink.innerHTML = docLinkHtml;\n",
       "          element.appendChild(docLink);\n",
       "        }\n",
       "      </script>\n",
       "    </div>\n",
       "  </div>\n",
       "  "
      ],
      "text/plain": [
       "   Site_id  dbh  Leaf_Surface_Area\n",
       "0     1     0.0         0.00      \n",
       "1     2     0.0         0.00      \n",
       "2     3     4.0        30.40      \n",
       "3     4     0.0         0.00      \n",
       "4     5     4.0        20.75      "
      ]
     },
     "metadata": {},
     "output_type": "display_data"
    }
   ],
   "source": [
    "# Display Tree dim \n",
    "\n",
    "dim_to_print = pd.read_sql_query(\"\"\"SELECT * FROM Tree_Dim\"\"\",conn)\n",
    "display(dim_to_print.head())"
   ]
  },
  {
   "cell_type": "markdown",
   "metadata": {
    "id": "eadc49e5-4f6c-406e-b8bc-485d8fc103e3",
    "tags": []
   },
   "source": [
    "## Benefits Table"
   ]
  },
  {
   "cell_type": "code",
   "execution_count": null,
   "metadata": {
    "id": "eb42d227-02cf-4aa1-84ef-a0cf9510c8ce",
    "tags": []
   },
   "outputs": [],
   "source": [
    "# Tree Benefits \n",
    "\n",
    "benefits_table = create_table(conn,create_benefits_table,'Benefits')\n",
    "rename_cols = ['Site_ID','Total_Yearly_Eco_Benefits','Stormwater_Benefits','Stormwater_Gallons','Greenhouse_CO2_Benefits','CO2_Avoided','CO2_Sequestered','Energy_Benefits','kWh_Saved','Therms_Saved','Air_Quality_Benefits','Pollutants_Saved','Property_Benefits']\n",
    "benefits_df = tree_df[rename_cols]\n",
    "benefits_df.drop_duplicates()\n",
    "insert_benefits = df_sql(benefits_df,'Benefits',conn)\n"
   ]
  },
  {
   "cell_type": "code",
   "execution_count": null,
   "metadata": {
    "colab": {
     "base_uri": "https://localhost:8080/",
     "height": 270
    },
    "executionInfo": {
     "elapsed": 701,
     "status": "ok",
     "timestamp": 1639879718212,
     "user": {
      "displayName": "Nikhil Sharma",
      "photoUrl": "https://lh3.googleusercontent.com/a-/AOh14Gj7gHWG4JEF4-8bttI9vPHjclquT1FoMg0qQzua=s64",
      "userId": "06709591125112855864"
     },
     "user_tz": 300
    },
    "id": "9e1d0544-a6b9-4616-a2f1-b2980ef1048c",
    "outputId": "f400b5f1-102e-4ccc-82ee-4aa32e276192",
    "tags": []
   },
   "outputs": [
    {
     "data": {
      "text/html": [
       "\n",
       "  <div id=\"df-4b66bc47-056c-41f9-9022-533cecdb8d5e\">\n",
       "    <div class=\"colab-df-container\">\n",
       "      <div>\n",
       "<style scoped>\n",
       "    .dataframe tbody tr th:only-of-type {\n",
       "        vertical-align: middle;\n",
       "    }\n",
       "\n",
       "    .dataframe tbody tr th {\n",
       "        vertical-align: top;\n",
       "    }\n",
       "\n",
       "    .dataframe thead th {\n",
       "        text-align: right;\n",
       "    }\n",
       "</style>\n",
       "<table border=\"1\" class=\"dataframe\">\n",
       "  <thead>\n",
       "    <tr style=\"text-align: center;\">\n",
       "      <th></th>\n",
       "      <th>Site_id</th>\n",
       "      <th>Total_Yearly_Eco_Benefits</th>\n",
       "      <th>Stormwater_Benefits</th>\n",
       "      <th>Stormwater_Gallons</th>\n",
       "      <th>Greenhouse_CO2_Benefits</th>\n",
       "      <th>CO2_Avoided</th>\n",
       "      <th>CO2_Sequestered</th>\n",
       "      <th>Energy_Benefits</th>\n",
       "      <th>kWh_Saved</th>\n",
       "      <th>Therms_Saved</th>\n",
       "      <th>Air_Quality_Benefits</th>\n",
       "      <th>Pollutants_Saved</th>\n",
       "      <th>Property_Benefits</th>\n",
       "    </tr>\n",
       "  </thead>\n",
       "  <tbody>\n",
       "    <tr>\n",
       "      <th>0</th>\n",
       "      <td>1</td>\n",
       "      <td>0.00</td>\n",
       "      <td>0.00</td>\n",
       "      <td>0.00</td>\n",
       "      <td>0.00</td>\n",
       "      <td>0.00</td>\n",
       "      <td>0.00</td>\n",
       "      <td>0.00</td>\n",
       "      <td>0.00</td>\n",
       "      <td>0.00</td>\n",
       "      <td>0.00</td>\n",
       "      <td>0.00</td>\n",
       "      <td>0.00</td>\n",
       "    </tr>\n",
       "    <tr>\n",
       "      <th>1</th>\n",
       "      <td>2</td>\n",
       "      <td>0.00</td>\n",
       "      <td>0.00</td>\n",
       "      <td>0.00</td>\n",
       "      <td>0.00</td>\n",
       "      <td>0.00</td>\n",
       "      <td>0.00</td>\n",
       "      <td>0.00</td>\n",
       "      <td>0.00</td>\n",
       "      <td>0.00</td>\n",
       "      <td>0.00</td>\n",
       "      <td>0.00</td>\n",
       "      <td>0.00</td>\n",
       "    </tr>\n",
       "    <tr>\n",
       "      <th>2</th>\n",
       "      <td>3</td>\n",
       "      <td>48.42</td>\n",
       "      <td>2.99</td>\n",
       "      <td>373.64</td>\n",
       "      <td>0.33</td>\n",
       "      <td>69.05</td>\n",
       "      <td>48.15</td>\n",
       "      <td>23.71</td>\n",
       "      <td>28.02</td>\n",
       "      <td>14.05</td>\n",
       "      <td>3.11</td>\n",
       "      <td>0.51</td>\n",
       "      <td>18.29</td>\n",
       "    </tr>\n",
       "    <tr>\n",
       "      <th>3</th>\n",
       "      <td>4</td>\n",
       "      <td>0.00</td>\n",
       "      <td>0.00</td>\n",
       "      <td>0.00</td>\n",
       "      <td>0.00</td>\n",
       "      <td>0.00</td>\n",
       "      <td>0.00</td>\n",
       "      <td>0.00</td>\n",
       "      <td>0.00</td>\n",
       "      <td>0.00</td>\n",
       "      <td>0.00</td>\n",
       "      <td>0.00</td>\n",
       "      <td>0.00</td>\n",
       "    </tr>\n",
       "    <tr>\n",
       "      <th>4</th>\n",
       "      <td>5</td>\n",
       "      <td>26.00</td>\n",
       "      <td>1.25</td>\n",
       "      <td>155.91</td>\n",
       "      <td>0.18</td>\n",
       "      <td>35.23</td>\n",
       "      <td>24.12</td>\n",
       "      <td>10.54</td>\n",
       "      <td>12.34</td>\n",
       "      <td>6.26</td>\n",
       "      <td>1.54</td>\n",
       "      <td>0.25</td>\n",
       "      <td>12.49</td>\n",
       "    </tr>\n",
       "  </tbody>\n",
       "</table>\n",
       "</div>\n",
       "      <button class=\"colab-df-convert\" onclick=\"convertToInteractive('df-4b66bc47-056c-41f9-9022-533cecdb8d5e')\"\n",
       "              title=\"Convert this dataframe to an interactive table.\"\n",
       "              style=\"display:none;\">\n",
       "        \n",
       "  <svg xmlns=\"http://www.w3.org/2000/svg\" height=\"24px\"viewBox=\"0 0 24 24\"\n",
       "       width=\"24px\">\n",
       "    <path d=\"M0 0h24v24H0V0z\" fill=\"none\"/>\n",
       "    <path d=\"M18.56 5.44l.94 2.06.94-2.06 2.06-.94-2.06-.94-.94-2.06-.94 2.06-2.06.94zm-11 1L8.5 8.5l.94-2.06 2.06-.94-2.06-.94L8.5 2.5l-.94 2.06-2.06.94zm10 10l.94 2.06.94-2.06 2.06-.94-2.06-.94-.94-2.06-.94 2.06-2.06.94z\"/><path d=\"M17.41 7.96l-1.37-1.37c-.4-.4-.92-.59-1.43-.59-.52 0-1.04.2-1.43.59L10.3 9.45l-7.72 7.72c-.78.78-.78 2.05 0 2.83L4 21.41c.39.39.9.59 1.41.59.51 0 1.02-.2 1.41-.59l7.78-7.78 2.81-2.81c.8-.78.8-2.07 0-2.86zM5.41 20L4 18.59l7.72-7.72 1.47 1.35L5.41 20z\"/>\n",
       "  </svg>\n",
       "      </button>\n",
       "      \n",
       "  <style>\n",
       "    .colab-df-container {\n",
       "      display:flex;\n",
       "      flex-wrap:wrap;\n",
       "      gap: 12px;\n",
       "    }\n",
       "\n",
       "    .colab-df-convert {\n",
       "      background-color: #E8F0FE;\n",
       "      border: none;\n",
       "      border-radius: 50%;\n",
       "      cursor: pointer;\n",
       "      display: none;\n",
       "      fill: #1967D2;\n",
       "      height: 32px;\n",
       "      padding: 0 0 0 0;\n",
       "      width: 32px;\n",
       "    }\n",
       "\n",
       "    .colab-df-convert:hover {\n",
       "      background-color: #E2EBFA;\n",
       "      box-shadow: 0px 1px 2px rgba(60, 64, 67, 0.3), 0px 1px 3px 1px rgba(60, 64, 67, 0.15);\n",
       "      fill: #174EA6;\n",
       "    }\n",
       "\n",
       "    [theme=dark] .colab-df-convert {\n",
       "      background-color: #3B4455;\n",
       "      fill: #D2E3FC;\n",
       "    }\n",
       "\n",
       "    [theme=dark] .colab-df-convert:hover {\n",
       "      background-color: #434B5C;\n",
       "      box-shadow: 0px 1px 3px 1px rgba(0, 0, 0, 0.15);\n",
       "      filter: drop-shadow(0px 1px 2px rgba(0, 0, 0, 0.3));\n",
       "      fill: #FFFFFF;\n",
       "    }\n",
       "  </style>\n",
       "\n",
       "      <script>\n",
       "        const buttonEl =\n",
       "          document.querySelector('#df-4b66bc47-056c-41f9-9022-533cecdb8d5e button.colab-df-convert');\n",
       "        buttonEl.style.display =\n",
       "          google.colab.kernel.accessAllowed ? 'block' : 'none';\n",
       "\n",
       "        async function convertToInteractive(key) {\n",
       "          const element = document.querySelector('#df-4b66bc47-056c-41f9-9022-533cecdb8d5e');\n",
       "          const dataTable =\n",
       "            await google.colab.kernel.invokeFunction('convertToInteractive',\n",
       "                                                     [key], {});\n",
       "          if (!dataTable) return;\n",
       "\n",
       "          const docLinkHtml = 'Like what you see? Visit the ' +\n",
       "            '<a target=\"_blank\" href=https://colab.research.google.com/notebooks/data_table.ipynb>data table notebook</a>'\n",
       "            + ' to learn more about interactive tables.';\n",
       "          element.innerHTML = '';\n",
       "          dataTable['output_type'] = 'display_data';\n",
       "          await google.colab.output.renderOutput(dataTable, element);\n",
       "          const docLink = document.createElement('div');\n",
       "          docLink.innerHTML = docLinkHtml;\n",
       "          element.appendChild(docLink);\n",
       "        }\n",
       "      </script>\n",
       "    </div>\n",
       "  </div>\n",
       "  "
      ],
      "text/plain": [
       "   Site_id  Total_Yearly_Eco_Benefits  Stormwater_Benefits  Stormwater_Gallons  Greenhouse_CO2_Benefits  CO2_Avoided  CO2_Sequestered  Energy_Benefits  kWh_Saved  Therms_Saved  Air_Quality_Benefits  Pollutants_Saved  Property_Benefits\n",
       "0     1                0.00                   0.00                  0.00                 0.00                0.00           0.00             0.00          0.00         0.00             0.00                0.00               0.00      \n",
       "1     2                0.00                   0.00                  0.00                 0.00                0.00           0.00             0.00          0.00         0.00             0.00                0.00               0.00      \n",
       "2     3               48.42                   2.99                373.64                 0.33               69.05          48.15            23.71         28.02        14.05             3.11                0.51              18.29      \n",
       "3     4                0.00                   0.00                  0.00                 0.00                0.00           0.00             0.00          0.00         0.00             0.00                0.00               0.00      \n",
       "4     5               26.00                   1.25                155.91                 0.18               35.23          24.12            10.54         12.34         6.26             1.54                0.25              12.49      "
      ]
     },
     "metadata": {},
     "output_type": "display_data"
    }
   ],
   "source": [
    "# Display Benefits\n",
    "\n",
    "ben_to_print = pd.read_sql_query(\"\"\"SELECT * FROM Benefits\"\"\",conn)\n",
    "display(ben_to_print.head())"
   ]
  },
  {
   "cell_type": "markdown",
   "metadata": {
    "id": "b64f9807-0fb0-4a94-9d55-aa1fb3910721",
    "tags": []
   },
   "source": [
    "# Exploratory Data Analysis"
   ]
  },
  {
   "cell_type": "code",
   "execution_count": null,
   "metadata": {
    "colab": {
     "base_uri": "https://localhost:8080/",
     "height": 430
    },
    "executionInfo": {
     "elapsed": 493,
     "status": "ok",
     "timestamp": 1639879718700,
     "user": {
      "displayName": "Nikhil Sharma",
      "photoUrl": "https://lh3.googleusercontent.com/a-/AOh14Gj7gHWG4JEF4-8bttI9vPHjclquT1FoMg0qQzua=s64",
      "userId": "06709591125112855864"
     },
     "user_tz": 300
    },
    "id": "65c4841d-6eed-454c-9e9f-9f7f1e2963f1",
    "outputId": "f99e8bad-3af1-458e-eee4-b1b74edcff53",
    "tags": []
   },
   "outputs": [
    {
     "data": {
      "image/png": "[encoded data removed]",
      "text/plain": [
       "<Figure size 432x432 with 1 Axes>"
      ]
     },
     "metadata": {
      "needs_background": "light"
     },
     "output_type": "display_data"
    }
   ],
   "source": [
    "# Top Trees in Buffalo\n",
    "\n",
    "top_tree = pd.read_sql_query(\"SELECT b.Common_name as Common_name, count(a.Site_id) as No_Trees from Location a LEFT JOIN Name b on a.name_id = b.name_id WHERE Common_name NOT IN ( '0' ,'VACANT') GROUP BY Common_name ORDER BY No_Trees DESC Limit 10\",conn)\n",
    "ax = sns.barplot(x=\"No_Trees\",y=\"Common_name\", data=top_tree)\n",
    "ax.set_title('Top Trees in Buffalo',fontsize=16)\n",
    "plt.xlabel(\"Number of Trees\")\n",
    "plt.xticks(rotation=45)\n",
    "plt.show()"
   ]
  },
  {
   "cell_type": "markdown",
   "metadata": {
    "id": "a4ad9164-7565-4744-80e1-cada211f5d26",
    "tags": []
   },
   "source": [
    "> Top three trees in Buffalo are Maple(Norway),Linden(Littleleaf),Maple(Silver).\n",
    "\n",
    "> Many trees in Buffalo area are from the Maple Family, with different sub categories like norway, red, silver, etc.\n",
    "\n",
    "> Lilac, Elm and Honeylocust are equally numbered"
   ]
  },
  {
   "cell_type": "code",
   "execution_count": null,
   "metadata": {
    "colab": {
     "base_uri": "https://localhost:8080/",
     "height": 424
    },
    "executionInfo": {
     "elapsed": 353,
     "status": "ok",
     "timestamp": 1639879719047,
     "user": {
      "displayName": "Nikhil Sharma",
      "photoUrl": "https://lh3.googleusercontent.com/a-/AOh14Gj7gHWG4JEF4-8bttI9vPHjclquT1FoMg0qQzua=s64",
      "userId": "06709591125112855864"
     },
     "user_tz": 300
    },
    "id": "4263a7e9-879c-4219-996b-0f02244204fc",
    "outputId": "cffc8301-8fcb-4e75-f227-538e6be07a0a",
    "tags": []
   },
   "outputs": [
    {
     "data": {
      "image/png": "[encoded data removed]",
      "text/plain": [
       "<Figure size 432x432 with 1 Axes>"
      ]
     },
     "metadata": {
      "needs_background": "light"
     },
     "output_type": "display_data"
    }
   ],
   "source": [
    "#Top 10 tress w.r.t avg CO2 Sequestered \n",
    "\n",
    "top_co2 = pd.read_sql_query(\"SELECT b.Common_Name as Common_Name, ROUND(AVG(c.CO2_Sequestered),2) as CO2_Sequestered from Location A left join Name b on a.name_id = b.name_id join Benefits c on a.Site_id = c.Site_id where Common_name NOT IN ( '0' ,'VACANT') GROUP by Common_Name ORDER by CO2_Sequestered DESC LIMIT 10\",conn)\n",
    "ax = sns.barplot(x=\"CO2_Sequestered\",y=\"Common_Name\", data=top_co2)\n",
    "ax.set_title('Top Trees in Buffalo w.r.t Avg Co2 Sequestered(in lbs)',fontsize=16)\n",
    "plt.xticks(rotation=45)\n",
    "plt.xlabel(\"CO2_Sequestered (Avg)\")\n",
    "plt.show()"
   ]
  },
  {
   "cell_type": "markdown",
   "metadata": {
    "id": "7cda5ddc-484e-48e4-b029-f6d03c0103cd",
    "tags": []
   },
   "source": [
    "> C02 Sequested -> Process of Capturing and storing Atmospheric CO2 \n",
    "\n",
    "> Oak Turkey dominates in sequesting C02\n",
    "\n",
    "> Other trees after Oak Turkey don't have significant difference in C02 sequested between each other"
   ]
  },
  {
   "cell_type": "code",
   "execution_count": null,
   "metadata": {
    "colab": {
     "base_uri": "https://localhost:8080/",
     "height": 435
    },
    "executionInfo": {
     "elapsed": 416,
     "status": "ok",
     "timestamp": 1639879719460,
     "user": {
      "displayName": "Nikhil Sharma",
      "photoUrl": "https://lh3.googleusercontent.com/a-/AOh14Gj7gHWG4JEF4-8bttI9vPHjclquT1FoMg0qQzua=s64",
      "userId": "06709591125112855864"
     },
     "user_tz": 300
    },
    "id": "876eb426-027b-4847-b1e7-fd80ed789d90",
    "outputId": "29b5aad3-325e-4f34-aafe-29bd315f3d25",
    "tags": []
   },
   "outputs": [
    {
     "data": {
      "image/png": "[encoded data removed]",
      "text/plain": [
       "<Figure size 432x432 with 1 Axes>"
      ]
     },
     "metadata": {
      "needs_background": "light"
     },
     "output_type": "display_data"
    }
   ],
   "source": [
    "#Top 10 tress w.r.t Air Quality Benefits\n",
    "\n",
    "top_air = pd.read_sql_query(\"SELECT b.Common_Name as Common_Name, ROUND(SUM(c.Air_Quality_Benefits),2) as Air_Quality_Benefits from Location A left join Name b on a.name_id = b.name_id join Benefits c on a.Site_id = c.Site_id where Common_name NOT IN ( '0' ,'VACANT') GROUP by Common_Name ORDER by Air_Quality_Benefits DESC LIMIT 10\",conn)\n",
    "ax = sns.barplot(x=\"Air_Quality_Benefits\",y=\"Common_Name\", data=top_air)\n",
    "ax.set_title('Top Trees in Buffalo w.r.t Air_Quality_Benefits(in $)',fontsize=16)\n",
    "plt.xticks(rotation=45)\n",
    "plt.xlabel(\"Air_Quality_Benefits ($)\")\n",
    "plt.show()"
   ]
  },
  {
   "cell_type": "markdown",
   "metadata": {
    "id": "cd021a15-6577-49de-a6e6-61f23d6a8b58",
    "tags": []
   },
   "source": [
    "> High Air Quality -> Less Pollution . \n",
    "\n",
    "> Air quality benefits is calculated in terms of dollars to calculate net economic gain.\n",
    "\n",
    "> Liden Littleleaf, Maple( Silver),Maple( Norway) are trees providing max Air quality Benefits\n",
    "\n",
    "> Honeylocust, Maple( hedge),Pear( callery),Maple( crimson king), Maple( red) are very similar and provide least airquality benefits comparatively "
   ]
  },
  {
   "cell_type": "code",
   "execution_count": null,
   "metadata": {
    "id": "20d9b2ca-eae3-4fd5-8adc-334212033e0b",
    "tags": []
   },
   "outputs": [],
   "source": [
    "#Subsetting Data Where plot has stump or is not vacant \n",
    "\n",
    "reg_data = pd.read_sql_query(\"SELECT A.Total_Yearly_Eco_Benefits, B.Side, CASE WHEN B.Park_Name = '0'  THEN 'No' Else 'Yes' End as is_in_park,  C.Editing, D.Council_District, E.dbh, E.Leaf_Surface_Area from Benefits A left join Tree_Dim E on A.Site_id = E.Site_id left join Location B on A.Site_id = B.Site_id LEFT JOIN District D on B.District_id = D.District_id LEFT JOIN Editing C on  B.Editing_id = C.Editing_id LEFT join Name F on b.name_id =  F.name_id where F.Common_Name not in ('VACANT', '0', 'STUMP')  and B.side != '0'\", conn)"
   ]
  },
  {
   "cell_type": "code",
   "execution_count": null,
   "metadata": {
    "colab": {
     "base_uri": "https://localhost:8080/",
     "height": 393
    },
    "executionInfo": {
     "elapsed": 555,
     "status": "ok",
     "timestamp": 1639879720010,
     "user": {
      "displayName": "Nikhil Sharma",
      "photoUrl": "https://lh3.googleusercontent.com/a-/AOh14Gj7gHWG4JEF4-8bttI9vPHjclquT1FoMg0qQzua=s64",
      "userId": "06709591125112855864"
     },
     "user_tz": 300
    },
    "id": "878361d6-5635-4c91-b0eb-56a81357e4f5",
    "outputId": "00dba8c9-56e9-4842-8b2f-1c473046fa8b",
    "tags": []
   },
   "outputs": [
    {
     "data": {
      "image/png": "[encoded data removed]",
      "text/plain": [
       "<Figure size 432x432 with 1 Axes>"
      ]
     },
     "metadata": {
      "needs_background": "light"
     },
     "output_type": "display_data"
    }
   ],
   "source": [
    "#yearly benefits\n",
    "yearly_benefits = reg_data[\"Total_Yearly_Eco_Benefits\"].plot.hist(alpha=0.5)\n",
    "plt.title(\"Distribution of Yearly Ecological Benefits(in $)\")\n",
    "plt.show()"
   ]
  },
  {
   "cell_type": "markdown",
   "metadata": {
    "id": "8c231c9a-b64c-4447-9e90-9827a7b3cb06",
    "tags": []
   },
   "source": [
    "> Yearly_ecological_benefits is Right Skewed\n",
    "\n",
    "> Majority of the trees have ecological benefits between 0 to 150USD in total yearly benefits\n",
    "\n",
    "> Most number of trees are within the economical yearly benefits of 50 & 100 USD"
   ]
  },
  {
   "cell_type": "code",
   "execution_count": null,
   "metadata": {
    "colab": {
     "base_uri": "https://localhost:8080/",
     "height": 378
    },
    "executionInfo": {
     "elapsed": 7,
     "status": "ok",
     "timestamp": 1639879720010,
     "user": {
      "displayName": "Nikhil Sharma",
      "photoUrl": "https://lh3.googleusercontent.com/a-/AOh14Gj7gHWG4JEF4-8bttI9vPHjclquT1FoMg0qQzua=s64",
      "userId": "06709591125112855864"
     },
     "user_tz": 300
    },
    "id": "ae9c5664-5bee-4297-a5e7-7eb65a4dea58",
    "outputId": "36a370e4-e7ec-44df-b0c0-2fadab243406",
    "tags": []
   },
   "outputs": [
    {
     "data": {
      "image/png": "[encoded data removed]",
      "text/plain": [
       "<Figure size 432x432 with 1 Axes>"
      ]
     },
     "metadata": {},
     "output_type": "display_data"
    }
   ],
   "source": [
    "#Tree Distribution across Council District\n",
    "\n",
    "dist_count = reg_data['Council_District'].value_counts()\n",
    "labels = dist_count.index\n",
    "sizes = dist_count.values\n",
    "fig1, ax1 = plt.subplots()\n",
    "ax1.pie(sizes,explode=(sizes == max(sizes)) * 0.1, labels=labels, autopct='%1.1f%%', startangle=90)\n",
    "ax1.axis('equal')\n",
    "plt.title(\"Distribution of Trees by Council District\")\n",
    "plt.show()"
   ]
  },
  {
   "cell_type": "markdown",
   "metadata": {
    "id": "3d3148fc-0437-4b8e-a785-d8c8a4ef6a60",
    "tags": []
   },
   "source": [
    "> Delaware has the most number of trees\n",
    "\n",
    "> Delware is closely followed up by South , Niagara , North , Fillmore in terms of number of trees\n",
    "\n",
    "> Lovejoy has the least number of trees in all districts."
   ]
  },
  {
   "cell_type": "code",
   "execution_count": null,
   "metadata": {
    "colab": {
     "base_uri": "https://localhost:8080/",
     "height": 390
    },
    "executionInfo": {
     "elapsed": 12438,
     "status": "ok",
     "timestamp": 1639879732442,
     "user": {
      "displayName": "Nikhil Sharma",
      "photoUrl": "https://lh3.googleusercontent.com/a-/AOh14Gj7gHWG4JEF4-8bttI9vPHjclquT1FoMg0qQzua=s64",
      "userId": "06709591125112855864"
     },
     "user_tz": 300
    },
    "id": "8d683a6b-bbf7-4f3e-a414-559f75088761",
    "outputId": "f1fe1b5c-43d8-4f8e-fba2-da5af1d6ad40",
    "tags": []
   },
   "outputs": [
    {
     "data": {
      "image/png": "[encoded data removed]",
      "text/plain": [
       "<Figure size 777.625x360 with 2 Axes>"
      ]
     },
     "metadata": {
      "needs_background": "light"
     },
     "output_type": "display_data"
    }
   ],
   "source": [
    "sns.pairplot(reg_data,x_vars=['dbh','Leaf_Surface_Area'],y_vars=['Total_Yearly_Eco_Benefits'],hue='is_in_park', height = 5)\n",
    "plt.title(\"dbh & Leaf_Area vs Total_Yearly_Eco_Benefits\")\n",
    "plt.show()"
   ]
  },
  {
   "cell_type": "markdown",
   "metadata": {
    "id": "83b3029b-c31c-4cc4-892a-15d90dde3abc",
    "tags": []
   },
   "source": [
    "> Leaf surface area and total yearly benefits indicate strong positive correlation\n",
    "\n",
    "> Dbh vs Ecological benefits behaves same irrespective of a park or no park\n",
    "\n",
    "> Leaf Surface Area has higher correlation in presence of park"
   ]
  },
  {
   "cell_type": "code",
   "execution_count": null,
   "metadata": {
    "colab": {
     "base_uri": "https://localhost:8080/",
     "height": 410
    },
    "executionInfo": {
     "elapsed": 10,
     "status": "ok",
     "timestamp": 1639879732443,
     "user": {
      "displayName": "Nikhil Sharma",
      "photoUrl": "https://lh3.googleusercontent.com/a-/AOh14Gj7gHWG4JEF4-8bttI9vPHjclquT1FoMg0qQzua=s64",
      "userId": "06709591125112855864"
     },
     "user_tz": 300
    },
    "id": "ff30aceb-a4ee-4bc0-a940-130878b2281b",
    "outputId": "32892f2d-30fd-4811-90fe-c6e8b0b7b2bf",
    "tags": []
   },
   "outputs": [
    {
     "data": {
      "image/png": "[encoded data removed]",
      "text/plain": [
       "<Figure size 432x432 with 1 Axes>"
      ]
     },
     "metadata": {
      "needs_background": "light"
     },
     "output_type": "display_data"
    }
   ],
   "source": [
    "sns.boxplot(y='Total_Yearly_Eco_Benefits',x='Side',data=reg_data)\n",
    "plt.title(\"Side of Plot vs Total_Yearly_Eco_Benefits\")\n",
    "plt.show()"
   ]
  },
  {
   "cell_type": "markdown",
   "metadata": {
    "id": "ec91b3f3-6f81-41ac-bd1f-d5d10454684f",
    "tags": []
   },
   "source": [
    "> Front side has highest ecological benefits on an average."
   ]
  },
  {
   "cell_type": "code",
   "execution_count": null,
   "metadata": {
    "colab": {
     "base_uri": "https://localhost:8080/",
     "height": 502
    },
    "executionInfo": {
     "elapsed": 9,
     "status": "ok",
     "timestamp": 1639879732444,
     "user": {
      "displayName": "Nikhil Sharma",
      "photoUrl": "https://lh3.googleusercontent.com/a-/AOh14Gj7gHWG4JEF4-8bttI9vPHjclquT1FoMg0qQzua=s64",
      "userId": "06709591125112855864"
     },
     "user_tz": 300
    },
    "id": "42f3972c-9a3d-4f86-a08d-bbd5be8f44c3",
    "outputId": "fdaa522b-7c60-4964-e83d-67e4d2fc3ecf",
    "tags": []
   },
   "outputs": [
    {
     "data": {
      "image/png": "[encoded data removed]",
      "text/plain": [
       "<Figure size 720x576 with 2 Axes>"
      ]
     },
     "metadata": {
      "needs_background": "light"
     },
     "output_type": "display_data"
    }
   ],
   "source": [
    "cont_var = reg_data[['Total_Yearly_Eco_Benefits','dbh', 'Leaf_Surface_Area']]\n",
    "plt.subplots(figsize=(10,8))\n",
    "sns.heatmap(cont_var.corr(),annot=True,lw=1)\n",
    "plt.title(\"Corrplot of Yearly Ecological Benefits, dbh, Leaf Surface Area\")\n",
    "plt.show()"
   ]
  },
  {
   "cell_type": "code",
   "execution_count": null,
   "metadata": {
    "colab": {
     "base_uri": "https://localhost:8080/",
     "height": 410
    },
    "executionInfo": {
     "elapsed": 7,
     "status": "ok",
     "timestamp": 1639879732444,
     "user": {
      "displayName": "Nikhil Sharma",
      "photoUrl": "https://lh3.googleusercontent.com/a-/AOh14Gj7gHWG4JEF4-8bttI9vPHjclquT1FoMg0qQzua=s64",
      "userId": "06709591125112855864"
     },
     "user_tz": 300
    },
    "id": "467da6aa-3e67-4b1e-9a0c-4511cebc03e5",
    "outputId": "86fac741-1b28-488c-92ee-a2f85f13a917",
    "tags": []
   },
   "outputs": [
    {
     "data": {
      "image/png": "[encoded data removed]",
      "text/plain": [
       "<Figure size 432x432 with 1 Axes>"
      ]
     },
     "metadata": {
      "needs_background": "light"
     },
     "output_type": "display_data"
    }
   ],
   "source": [
    "sns.boxplot(y='Total_Yearly_Eco_Benefits',x='Editing',data=reg_data)\n",
    "plt.title(\"Editing vs Total_Yearly_Eco_Benefits\")\n",
    "plt.show()"
   ]
  },
  {
   "cell_type": "markdown",
   "metadata": {
    "id": "7f3be87f-7a47-4ebe-bb55-9a11546f0153",
    "tags": []
   },
   "source": [
    "> On average Trees maintained by city of Buffalo have higher Ecological Benefits\n",
    "\n",
    "> Ecological benefits of Trees maintained by Buffalo approximately follow normal distribution\n",
    "\n",
    "> Ecological benefits of Trees maintained by Olmsted is right skewed"
   ]
  },
  {
   "cell_type": "markdown",
   "metadata": {
    "id": "b15d51e5-56e2-4d91-b654-5fb73320f667",
    "tags": []
   },
   "source": [
    "# Predictive Modelling - Multiple Linear Regression "
   ]
  },
  {
   "cell_type": "markdown",
   "metadata": {
    "id": "01ddda00-1f72-4267-a822-ac303edc0f49",
    "tags": []
   },
   "source": [
    "## Do the factors Dimension, Leaf Surface Area, Location attributes of the trees and the organisation that maintains the tree impact Total Yearly Ecological Benefits provided by the tree?\n",
    "\n",
    "### Dependent Variable Y - Total_Yearly_Eco_Benefits\n",
    "\n",
    "### Independent Variables Xs: \n",
    "\n",
    "> Continuous Variables: dbh, Leaf Surface\n",
    "\n",
    "> Categorical Variables: \n",
    "    - Editing - 2 Categories\n",
    "    - Council_District - 9 Categories \n",
    "    - is_in_park - 2 Categories \n",
    "    - Side - 5 Categories "
   ]
  },
  {
   "cell_type": "markdown",
   "metadata": {
    "id": "95491716-4bd5-4c97-bdcd-a31777810bc0",
    "tags": []
   },
   "source": [
    "### Dummy Variables:\n",
    "> Created to assign numerical value to levels of categorical variables. One level dropped to avoid dummy variable trap\n",
    "\n",
    "### Train & Test split: \n",
    "> The data is split randomly with 80:20 for Train and Test dataset"
   ]
  },
  {
   "cell_type": "code",
   "execution_count": null,
   "metadata": {
    "id": "49855111-327a-47b5-b33a-a2537b6c9261",
    "tags": []
   },
   "outputs": [],
   "source": [
    "# Assigning X,Y | Creating dummies for Categorical Variables\n",
    "\n",
    "regr_data = reg_data.dropna(axis=0)\n",
    "X = regr_data[['Side', 'is_in_park', 'Editing','Council_District', 'dbh', 'Leaf_Surface_Area']]\n",
    "X = pd.get_dummies(data=X, drop_first=True)\n",
    "Y = regr_data['Total_Yearly_Eco_Benefits']"
   ]
  },
  {
   "cell_type": "code",
   "execution_count": null,
   "metadata": {
    "colab": {
     "base_uri": "https://localhost:8080/",
     "height": 270
    },
    "executionInfo": {
     "elapsed": 5,
     "status": "ok",
     "timestamp": 1639879732740,
     "user": {
      "displayName": "Nikhil Sharma",
      "photoUrl": "https://lh3.googleusercontent.com/a-/AOh14Gj7gHWG4JEF4-8bttI9vPHjclquT1FoMg0qQzua=s64",
      "userId": "06709591125112855864"
     },
     "user_tz": 300
    },
    "id": "7805f170-9ca4-41c1-9ca1-c77ba1f2329a",
    "outputId": "420c27a6-545d-45fb-aa45-9efd480649c0",
    "tags": []
   },
   "outputs": [
    {
     "data": {
      "text/html": [
       "\n",
       "  <div id=\"df-8f06f772-58ca-4f75-814b-649217ff985b\">\n",
       "    <div class=\"colab-df-container\">\n",
       "      <div>\n",
       "<style scoped>\n",
       "    .dataframe tbody tr th:only-of-type {\n",
       "        vertical-align: middle;\n",
       "    }\n",
       "\n",
       "    .dataframe tbody tr th {\n",
       "        vertical-align: top;\n",
       "    }\n",
       "\n",
       "    .dataframe thead th {\n",
       "        text-align: right;\n",
       "    }\n",
       "</style>\n",
       "<table border=\"1\" class=\"dataframe\">\n",
       "  <thead>\n",
       "    <tr style=\"text-align: center;\">\n",
       "      <th></th>\n",
       "      <th>dbh</th>\n",
       "      <th>Leaf_Surface_Area</th>\n",
       "      <th>Side_In_Lot</th>\n",
       "      <th>Side_Median</th>\n",
       "      <th>Side_Rear</th>\n",
       "      <th>Side_Side</th>\n",
       "      <th>is_in_park_Yes</th>\n",
       "      <th>Editing_Olmsted</th>\n",
       "      <th>Council_District_ELLICOTT</th>\n",
       "      <th>Council_District_FILLMORE</th>\n",
       "      <th>Council_District_LOVEJOY</th>\n",
       "      <th>Council_District_MASTEN</th>\n",
       "      <th>Council_District_NIAGARA</th>\n",
       "      <th>Council_District_NORTH</th>\n",
       "      <th>Council_District_SOUTH</th>\n",
       "      <th>Council_District_UNIVERSITY</th>\n",
       "    </tr>\n",
       "  </thead>\n",
       "  <tbody>\n",
       "    <tr>\n",
       "      <th>0</th>\n",
       "      <td>4.0</td>\n",
       "      <td>30.40</td>\n",
       "      <td>0</td>\n",
       "      <td>0</td>\n",
       "      <td>0</td>\n",
       "      <td>0</td>\n",
       "      <td>0</td>\n",
       "      <td>0</td>\n",
       "      <td>1</td>\n",
       "      <td>0</td>\n",
       "      <td>0</td>\n",
       "      <td>0</td>\n",
       "      <td>0</td>\n",
       "      <td>0</td>\n",
       "      <td>0</td>\n",
       "      <td>0</td>\n",
       "    </tr>\n",
       "    <tr>\n",
       "      <th>1</th>\n",
       "      <td>4.0</td>\n",
       "      <td>20.75</td>\n",
       "      <td>0</td>\n",
       "      <td>0</td>\n",
       "      <td>0</td>\n",
       "      <td>0</td>\n",
       "      <td>0</td>\n",
       "      <td>0</td>\n",
       "      <td>1</td>\n",
       "      <td>0</td>\n",
       "      <td>0</td>\n",
       "      <td>0</td>\n",
       "      <td>0</td>\n",
       "      <td>0</td>\n",
       "      <td>0</td>\n",
       "      <td>0</td>\n",
       "    </tr>\n",
       "    <tr>\n",
       "      <th>2</th>\n",
       "      <td>23.0</td>\n",
       "      <td>159.53</td>\n",
       "      <td>0</td>\n",
       "      <td>0</td>\n",
       "      <td>0</td>\n",
       "      <td>0</td>\n",
       "      <td>0</td>\n",
       "      <td>0</td>\n",
       "      <td>0</td>\n",
       "      <td>1</td>\n",
       "      <td>0</td>\n",
       "      <td>0</td>\n",
       "      <td>0</td>\n",
       "      <td>0</td>\n",
       "      <td>0</td>\n",
       "      <td>0</td>\n",
       "    </tr>\n",
       "    <tr>\n",
       "      <th>3</th>\n",
       "      <td>14.0</td>\n",
       "      <td>84.95</td>\n",
       "      <td>0</td>\n",
       "      <td>0</td>\n",
       "      <td>0</td>\n",
       "      <td>0</td>\n",
       "      <td>0</td>\n",
       "      <td>0</td>\n",
       "      <td>0</td>\n",
       "      <td>1</td>\n",
       "      <td>0</td>\n",
       "      <td>0</td>\n",
       "      <td>0</td>\n",
       "      <td>0</td>\n",
       "      <td>0</td>\n",
       "      <td>0</td>\n",
       "    </tr>\n",
       "    <tr>\n",
       "      <th>4</th>\n",
       "      <td>23.0</td>\n",
       "      <td>29.23</td>\n",
       "      <td>0</td>\n",
       "      <td>0</td>\n",
       "      <td>0</td>\n",
       "      <td>1</td>\n",
       "      <td>0</td>\n",
       "      <td>0</td>\n",
       "      <td>0</td>\n",
       "      <td>1</td>\n",
       "      <td>0</td>\n",
       "      <td>0</td>\n",
       "      <td>0</td>\n",
       "      <td>0</td>\n",
       "      <td>0</td>\n",
       "      <td>0</td>\n",
       "    </tr>\n",
       "  </tbody>\n",
       "</table>\n",
       "</div>\n",
       "      <button class=\"colab-df-convert\" onclick=\"convertToInteractive('df-8f06f772-58ca-4f75-814b-649217ff985b')\"\n",
       "              title=\"Convert this dataframe to an interactive table.\"\n",
       "              style=\"display:none;\">\n",
       "        \n",
       "  <svg xmlns=\"http://www.w3.org/2000/svg\" height=\"24px\"viewBox=\"0 0 24 24\"\n",
       "       width=\"24px\">\n",
       "    <path d=\"M0 0h24v24H0V0z\" fill=\"none\"/>\n",
       "    <path d=\"M18.56 5.44l.94 2.06.94-2.06 2.06-.94-2.06-.94-.94-2.06-.94 2.06-2.06.94zm-11 1L8.5 8.5l.94-2.06 2.06-.94-2.06-.94L8.5 2.5l-.94 2.06-2.06.94zm10 10l.94 2.06.94-2.06 2.06-.94-2.06-.94-.94-2.06-.94 2.06-2.06.94z\"/><path d=\"M17.41 7.96l-1.37-1.37c-.4-.4-.92-.59-1.43-.59-.52 0-1.04.2-1.43.59L10.3 9.45l-7.72 7.72c-.78.78-.78 2.05 0 2.83L4 21.41c.39.39.9.59 1.41.59.51 0 1.02-.2 1.41-.59l7.78-7.78 2.81-2.81c.8-.78.8-2.07 0-2.86zM5.41 20L4 18.59l7.72-7.72 1.47 1.35L5.41 20z\"/>\n",
       "  </svg>\n",
       "      </button>\n",
       "      \n",
       "  <style>\n",
       "    .colab-df-container {\n",
       "      display:flex;\n",
       "      flex-wrap:wrap;\n",
       "      gap: 12px;\n",
       "    }\n",
       "\n",
       "    .colab-df-convert {\n",
       "      background-color: #E8F0FE;\n",
       "      border: none;\n",
       "      border-radius: 50%;\n",
       "      cursor: pointer;\n",
       "      display: none;\n",
       "      fill: #1967D2;\n",
       "      height: 32px;\n",
       "      padding: 0 0 0 0;\n",
       "      width: 32px;\n",
       "    }\n",
       "\n",
       "    .colab-df-convert:hover {\n",
       "      background-color: #E2EBFA;\n",
       "      box-shadow: 0px 1px 2px rgba(60, 64, 67, 0.3), 0px 1px 3px 1px rgba(60, 64, 67, 0.15);\n",
       "      fill: #174EA6;\n",
       "    }\n",
       "\n",
       "    [theme=dark] .colab-df-convert {\n",
       "      background-color: #3B4455;\n",
       "      fill: #D2E3FC;\n",
       "    }\n",
       "\n",
       "    [theme=dark] .colab-df-convert:hover {\n",
       "      background-color: #434B5C;\n",
       "      box-shadow: 0px 1px 3px 1px rgba(0, 0, 0, 0.15);\n",
       "      filter: drop-shadow(0px 1px 2px rgba(0, 0, 0, 0.3));\n",
       "      fill: #FFFFFF;\n",
       "    }\n",
       "  </style>\n",
       "\n",
       "      <script>\n",
       "        const buttonEl =\n",
       "          document.querySelector('#df-8f06f772-58ca-4f75-814b-649217ff985b button.colab-df-convert');\n",
       "        buttonEl.style.display =\n",
       "          google.colab.kernel.accessAllowed ? 'block' : 'none';\n",
       "\n",
       "        async function convertToInteractive(key) {\n",
       "          const element = document.querySelector('#df-8f06f772-58ca-4f75-814b-649217ff985b');\n",
       "          const dataTable =\n",
       "            await google.colab.kernel.invokeFunction('convertToInteractive',\n",
       "                                                     [key], {});\n",
       "          if (!dataTable) return;\n",
       "\n",
       "          const docLinkHtml = 'Like what you see? Visit the ' +\n",
       "            '<a target=\"_blank\" href=https://colab.research.google.com/notebooks/data_table.ipynb>data table notebook</a>'\n",
       "            + ' to learn more about interactive tables.';\n",
       "          element.innerHTML = '';\n",
       "          dataTable['output_type'] = 'display_data';\n",
       "          await google.colab.output.renderOutput(dataTable, element);\n",
       "          const docLink = document.createElement('div');\n",
       "          docLink.innerHTML = docLinkHtml;\n",
       "          element.appendChild(docLink);\n",
       "        }\n",
       "      </script>\n",
       "    </div>\n",
       "  </div>\n",
       "  "
      ],
      "text/plain": [
       "    dbh  Leaf_Surface_Area  Side_In_Lot  Side_Median  Side_Rear  Side_Side  is_in_park_Yes  Editing_Olmsted  Council_District_ELLICOTT  Council_District_FILLMORE  Council_District_LOVEJOY  Council_District_MASTEN  Council_District_NIAGARA  Council_District_NORTH  Council_District_SOUTH  Council_District_UNIVERSITY\n",
       "0   4.0        30.40             0            0           0          0             0               0                     1                          0                          0                        0                         0                        0                       0                         0             \n",
       "1   4.0        20.75             0            0           0          0             0               0                     1                          0                          0                        0                         0                        0                       0                         0             \n",
       "2  23.0       159.53             0            0           0          0             0               0                     0                          1                          0                        0                         0                        0                       0                         0             \n",
       "3  14.0        84.95             0            0           0          0             0               0                     0                          1                          0                        0                         0                        0                       0                         0             \n",
       "4  23.0        29.23             0            0           0          1             0               0                     0                          1                          0                        0                         0                        0                       0                         0             "
      ]
     },
     "metadata": {},
     "output_type": "display_data"
    }
   ],
   "source": [
    "display(X.head())"
   ]
  },
  {
   "cell_type": "code",
   "execution_count": null,
   "metadata": {
    "colab": {
     "base_uri": "https://localhost:8080/"
    },
    "executionInfo": {
     "elapsed": 4,
     "status": "ok",
     "timestamp": 1639879732741,
     "user": {
      "displayName": "Nikhil Sharma",
      "photoUrl": "https://lh3.googleusercontent.com/a-/AOh14Gj7gHWG4JEF4-8bttI9vPHjclquT1FoMg0qQzua=s64",
      "userId": "06709591125112855864"
     },
     "user_tz": 300
    },
    "id": "421fd530-d7ba-4ed8-9bf4-390c67bda52b",
    "outputId": "0b8a18a2-7479-4325-91f1-a5352a0a8139",
    "tags": []
   },
   "outputs": [
    {
     "name": "stdout",
     "output_type": "stream",
     "text": [
      "Train Dim\n",
      "(58095, 16)\n",
      "(58095,)\n",
      "Test Dim\n",
      "(14524, 16)\n",
      "(14524,)\n"
     ]
    }
   ],
   "source": [
    "# Splitting into Train and test\n",
    "\n",
    "from sklearn.model_selection import train_test_split\n",
    "\n",
    "X_train, X_test, y_train, y_test = train_test_split(X, Y, test_size=0.2, random_state=1)\n",
    "\n",
    "print(\"Train Dim\")\n",
    "print(X_train.shape)\n",
    "print(y_train.shape)\n",
    "\n",
    "print(\"Test Dim\")\n",
    "print(X_test.shape)\n",
    "print(y_test.shape)"
   ]
  },
  {
   "cell_type": "markdown",
   "metadata": {
    "id": "c6823194-9c08-42e4-8e3b-6d598ac7f3cc",
    "tags": []
   },
   "source": [
    "# Predictive Modelling - Results"
   ]
  },
  {
   "cell_type": "markdown",
   "metadata": {
    "id": "424e2235-553d-4b7d-8971-f6ace73a32a0",
    "tags": []
   },
   "source": [
    "## Intercept and Coefficients"
   ]
  },
  {
   "cell_type": "code",
   "execution_count": null,
   "metadata": {
    "colab": {
     "base_uri": "https://localhost:8080/"
    },
    "executionInfo": {
     "elapsed": 1089,
     "status": "ok",
     "timestamp": 1639879733826,
     "user": {
      "displayName": "Nikhil Sharma",
      "photoUrl": "https://lh3.googleusercontent.com/a-/AOh14Gj7gHWG4JEF4-8bttI9vPHjclquT1FoMg0qQzua=s64",
      "userId": "06709591125112855864"
     },
     "user_tz": 300
    },
    "id": "39df7c6f-85f0-4b7c-885a-0684b8e9377f",
    "outputId": "3b386cf3-3384-4131-ff06-5b6038b8882b",
    "tags": []
   },
   "outputs": [
    {
     "name": "stderr",
     "output_type": "stream",
     "text": [
      "/usr/local/lib/python3.7/dist-packages/statsmodels/tools/_testing.py:19: FutureWarning: pandas.util.testing is deprecated. Use the functions in the public API at pandas.testing instead.\n",
      "  import pandas.util.testing as tm\n"
     ]
    },
    {
     "name": "stdout",
     "output_type": "stream",
     "text": [
      "Intercept\n",
      "-4.532214207012274\n",
      "Coefficients\n",
      "                             Coefficient\n",
      "dbh                             3.660   \n",
      "Leaf_Surface_Area               0.815   \n",
      "Side_In_Lot                   -12.035   \n",
      "Side_Median                    -0.984   \n",
      "Side_Rear                      -4.016   \n",
      "Side_Side                      -1.974   \n",
      "is_in_park_Yes                 13.189   \n",
      "Editing_Olmsted                -6.798   \n",
      "Council_District_ELLICOTT       1.651   \n",
      "Council_District_FILLMORE       0.814   \n",
      "Council_District_LOVEJOY       -0.009   \n",
      "Council_District_MASTEN        -0.902   \n",
      "Council_District_NIAGARA       -1.382   \n",
      "Council_District_NORTH         -0.002   \n",
      "Council_District_SOUTH          0.296   \n",
      "Council_District_UNIVERSITY     0.123   \n"
     ]
    }
   ],
   "source": [
    "# Fitting MLR Model \n",
    "import sklearn\n",
    "from sklearn.linear_model import LinearRegression\n",
    "from sklearn.feature_selection import f_regression\n",
    "import statsmodels.api as sm\n",
    "from scipy import stats\n",
    "model = LinearRegression()\n",
    "lm = model.fit(X_train,y_train)\n",
    "\n",
    "print(\"Intercept\")\n",
    "print(lm.intercept_)\n",
    "\n",
    "coeff_parameter = pd.DataFrame(lm.coef_,X.columns,columns=['Coefficient'])\n",
    "print('Coefficients')\n",
    "print(coeff_parameter)"
   ]
  },
  {
   "cell_type": "markdown",
   "metadata": {
    "id": "5299108d-b71b-46a4-9f2b-643690062a6e",
    "tags": []
   },
   "source": [
    "## R squared value"
   ]
  },
  {
   "cell_type": "code",
   "execution_count": null,
   "metadata": {
    "colab": {
     "base_uri": "https://localhost:8080/",
     "height": 176
    },
    "executionInfo": {
     "elapsed": 5,
     "status": "ok",
     "timestamp": 1639879733827,
     "user": {
      "displayName": "Nikhil Sharma",
      "photoUrl": "https://lh3.googleusercontent.com/a-/AOh14Gj7gHWG4JEF4-8bttI9vPHjclquT1FoMg0qQzua=s64",
      "userId": "06709591125112855864"
     },
     "user_tz": 300
    },
    "id": "ecbcc236-9b56-4125-b8b8-31a1ac40f837",
    "outputId": "be03a16b-3c59-44ef-dc4d-1c25b05139c4",
    "tags": []
   },
   "outputs": [
    {
     "data": {
      "text/html": [
       "\n",
       "  <div id=\"df-37fffc52-89c2-4879-8903-c2f456ddb45d\">\n",
       "    <div class=\"colab-df-container\">\n",
       "      <div>\n",
       "<style scoped>\n",
       "    .dataframe tbody tr th:only-of-type {\n",
       "        vertical-align: middle;\n",
       "    }\n",
       "\n",
       "    .dataframe tbody tr th {\n",
       "        vertical-align: top;\n",
       "    }\n",
       "\n",
       "    .dataframe thead th {\n",
       "        text-align: right;\n",
       "    }\n",
       "</style>\n",
       "<table border=\"1\" class=\"dataframe\">\n",
       "  <thead>\n",
       "    <tr style=\"text-align: center;\">\n",
       "      <th></th>\n",
       "      <th>Title</th>\n",
       "      <th>R_Squared</th>\n",
       "      <th>RMSE</th>\n",
       "    </tr>\n",
       "  </thead>\n",
       "  <tbody>\n",
       "    <tr>\n",
       "      <th>0</th>\n",
       "      <td>Train</td>\n",
       "      <td>0.93</td>\n",
       "      <td>385.14</td>\n",
       "    </tr>\n",
       "    <tr>\n",
       "      <th>1</th>\n",
       "      <td>Test</td>\n",
       "      <td>0.95</td>\n",
       "      <td>271.91</td>\n",
       "    </tr>\n",
       "  </tbody>\n",
       "</table>\n",
       "</div>\n",
       "      <button class=\"colab-df-convert\" onclick=\"convertToInteractive('df-37fffc52-89c2-4879-8903-c2f456ddb45d')\"\n",
       "              title=\"Convert this dataframe to an interactive table.\"\n",
       "              style=\"display:none;\">\n",
       "        \n",
       "  <svg xmlns=\"http://www.w3.org/2000/svg\" height=\"24px\"viewBox=\"0 0 24 24\"\n",
       "       width=\"24px\">\n",
       "    <path d=\"M0 0h24v24H0V0z\" fill=\"none\"/>\n",
       "    <path d=\"M18.56 5.44l.94 2.06.94-2.06 2.06-.94-2.06-.94-.94-2.06-.94 2.06-2.06.94zm-11 1L8.5 8.5l.94-2.06 2.06-.94-2.06-.94L8.5 2.5l-.94 2.06-2.06.94zm10 10l.94 2.06.94-2.06 2.06-.94-2.06-.94-.94-2.06-.94 2.06-2.06.94z\"/><path d=\"M17.41 7.96l-1.37-1.37c-.4-.4-.92-.59-1.43-.59-.52 0-1.04.2-1.43.59L10.3 9.45l-7.72 7.72c-.78.78-.78 2.05 0 2.83L4 21.41c.39.39.9.59 1.41.59.51 0 1.02-.2 1.41-.59l7.78-7.78 2.81-2.81c.8-.78.8-2.07 0-2.86zM5.41 20L4 18.59l7.72-7.72 1.47 1.35L5.41 20z\"/>\n",
       "  </svg>\n",
       "      </button>\n",
       "      \n",
       "  <style>\n",
       "    .colab-df-container {\n",
       "      display:flex;\n",
       "      flex-wrap:wrap;\n",
       "      gap: 12px;\n",
       "    }\n",
       "\n",
       "    .colab-df-convert {\n",
       "      background-color: #E8F0FE;\n",
       "      border: none;\n",
       "      border-radius: 50%;\n",
       "      cursor: pointer;\n",
       "      display: none;\n",
       "      fill: #1967D2;\n",
       "      height: 32px;\n",
       "      padding: 0 0 0 0;\n",
       "      width: 32px;\n",
       "    }\n",
       "\n",
       "    .colab-df-convert:hover {\n",
       "      background-color: #E2EBFA;\n",
       "      box-shadow: 0px 1px 2px rgba(60, 64, 67, 0.3), 0px 1px 3px 1px rgba(60, 64, 67, 0.15);\n",
       "      fill: #174EA6;\n",
       "    }\n",
       "\n",
       "    [theme=dark] .colab-df-convert {\n",
       "      background-color: #3B4455;\n",
       "      fill: #D2E3FC;\n",
       "    }\n",
       "\n",
       "    [theme=dark] .colab-df-convert:hover {\n",
       "      background-color: #434B5C;\n",
       "      box-shadow: 0px 1px 3px 1px rgba(0, 0, 0, 0.15);\n",
       "      filter: drop-shadow(0px 1px 2px rgba(0, 0, 0, 0.3));\n",
       "      fill: #FFFFFF;\n",
       "    }\n",
       "  </style>\n",
       "\n",
       "      <script>\n",
       "        const buttonEl =\n",
       "          document.querySelector('#df-37fffc52-89c2-4879-8903-c2f456ddb45d button.colab-df-convert');\n",
       "        buttonEl.style.display =\n",
       "          google.colab.kernel.accessAllowed ? 'block' : 'none';\n",
       "\n",
       "        async function convertToInteractive(key) {\n",
       "          const element = document.querySelector('#df-37fffc52-89c2-4879-8903-c2f456ddb45d');\n",
       "          const dataTable =\n",
       "            await google.colab.kernel.invokeFunction('convertToInteractive',\n",
       "                                                     [key], {});\n",
       "          if (!dataTable) return;\n",
       "\n",
       "          const docLinkHtml = 'Like what you see? Visit the ' +\n",
       "            '<a target=\"_blank\" href=https://colab.research.google.com/notebooks/data_table.ipynb>data table notebook</a>'\n",
       "            + ' to learn more about interactive tables.';\n",
       "          element.innerHTML = '';\n",
       "          dataTable['output_type'] = 'display_data';\n",
       "          await google.colab.output.renderOutput(dataTable, element);\n",
       "          const docLink = document.createElement('div');\n",
       "          docLink.innerHTML = docLinkHtml;\n",
       "          element.appendChild(docLink);\n",
       "        }\n",
       "      </script>\n",
       "    </div>\n",
       "  </div>\n",
       "  "
      ],
      "text/plain": [
       "  Title   R_Squared   RMSE \n",
       "0  Train    0.93     385.14\n",
       "1   Test    0.95     271.91"
      ]
     },
     "metadata": {},
     "output_type": "display_data"
    }
   ],
   "source": [
    "# RMSE and R-Squared \n",
    "\n",
    "from sklearn.metrics import mean_squared_error\n",
    "#Train \n",
    "train_predictions = model.predict(X_train)\n",
    "SS_Residual_train = sum((y_train-train_predictions)**2)\n",
    "SS_Total_train = sum((y_train-np.mean(y_train))**2)\n",
    "r_squared_train = round(1 - (float(SS_Residual_train))/SS_Total_train,2)\n",
    "rmse_train = round(mean_squared_error(y_train, train_predictions),2)\n",
    "\n",
    "#Test\n",
    "predictions = model.predict(X_test)\n",
    "SS_Residual = sum((y_test-predictions)**2)\n",
    "SS_Total = sum((y_test-np.mean(y_test))**2)\n",
    "r_squared_test = round(1 - (float(SS_Residual))/SS_Total,2)\n",
    "\n",
    "rmse_test = round(mean_squared_error(y_test, predictions),2)\n",
    "R_squared = [r_squared_train,r_squared_test]\n",
    "RMSE = [rmse_train,rmse_test]\n",
    "Title = ['Train','Test']\n",
    "mod_acc= pd.DataFrame({'Title':Title,'R_Squared':R_squared,'RMSE':RMSE})\n",
    "display(mod_acc)\n"
   ]
  },
  {
   "cell_type": "markdown",
   "metadata": {
    "id": "6939602a-feea-4b55-b5a2-3c18aa86d617",
    "tags": []
   },
   "source": [
    "> The train and test accuracies are measured in terms of R2 score.\n",
    "\n",
    "> R2 Score measures the variance that can be explained by the model for the target variable\n",
    "\n",
    "> As per train and test accuracy there is no overfitting reported in our modelling\n",
    "\n",
    "> The fitted model is generalizable for new Dataset "
   ]
  },
  {
   "cell_type": "markdown",
   "metadata": {
    "id": "bde43a69-01fd-480d-888d-4e14f40481ce",
    "tags": []
   },
   "source": [
    "## Original Vs Predicted - Scatter plot"
   ]
  },
  {
   "cell_type": "code",
   "execution_count": null,
   "metadata": {
    "colab": {
     "base_uri": "https://localhost:8080/",
     "height": 54
    },
    "executionInfo": {
     "elapsed": 1368,
     "status": "ok",
     "timestamp": 1639879735191,
     "user": {
      "displayName": "Nikhil Sharma",
      "photoUrl": "https://lh3.googleusercontent.com/a-/AOh14Gj7gHWG4JEF4-8bttI9vPHjclquT1FoMg0qQzua=s64",
      "userId": "06709591125112855864"
     },
     "user_tz": 300
    },
    "id": "66b11aac-2c97-444b-870c-ab97391f1e72",
    "outputId": "4281f588-b309-499a-eb97-fe023f055abb",
    "tags": []
   },
   "outputs": [
    {
     "data": {
      "image/png": "[encoded data removed]",
      "text/plain": [
       "<Figure size 432x432 with 1 Axes>"
      ]
     },
     "metadata": {
      "needs_background": "light"
     },
     "output_type": "display_data"
    }
   ],
   "source": [
    "# Predicting Test Datase\n",
    "\n",
    "sns.regplot(x = y_test,y = predictions,line_kws={\"color\": \"black\"})\n",
    "plt.title(\"Original Vs Predicted\")\n",
    "plt.show()"
   ]
  },
  {
   "cell_type": "markdown",
   "metadata": {
    "id": "5c894039-9c5d-4065-96ee-94bf9dcb287e",
    "tags": []
   },
   "source": [
    "> The model is a  good fit for the data\n",
    "\n",
    "> Good amount of variation is captured according to R2 Score"
   ]
  },
  {
   "cell_type": "markdown",
   "metadata": {
    "id": "81ca789e-69b2-422f-a75b-92f9742e9ab5",
    "tags": []
   },
   "source": [
    "# Conclusion"
   ]
  },
  {
   "cell_type": "markdown",
   "metadata": {
    "id": "29dafd9a-34e4-4ccb-b926-5a0872545de8",
    "tags": []
   },
   "source": [
    "> Dimensions, Location Attributes and Organisation that maintains the tree does have strong impact on Yearly Ecological Benefits \n",
    "\n",
    "> Dbh & is_in_park_yes have positive impact on Yearly Ecological Benefits by 13 and 3.6 units\n",
    "\n",
    "> Editing_Olmsted, Side_In_lot & Side_In_Rear have negative impact on Yearly Ecological Benefits by 6, 12 and 4 units"
   ]
  },
  {
   "cell_type": "markdown",
   "metadata": {
    "id": "d232dab6-a732-48a2-938c-4fbcd3981db7",
    "tags": []
   },
   "source": [
    "# Insights \n",
    "\n",
    "- From EDA, we see that Liden Littleleaf, Maple(Silver), Maple(Norway) are trees providing maximum Air quality Benefits. \n",
    "\n",
    "- Regression analysis shows us that trees planted on the lot has a negative impact on yearly ecological benefits. Therefore, in future, planting trees by the median or side should be preferred \n",
    "\n",
    "- Tress maintained Olmsted has a negative yearly ecological benefits. Further investigation is required to understand the causes"
   ]
  }
 ],
 "metadata": {
  "celltoolbar": "Slideshow",
  "colab": {
   "name": "Buffalo_Tree_Final.ipynb",
   "provenance": []
  },
  "kernelspec": {
   "display_name": "Python 3",
   "language": "python",
   "name": "python3"
  },
  "language_info": {
   "codemirror_mode": {
    "name": "ipython",
    "version": 3
   },
   "file_extension": ".py",
   "mimetype": "text/x-python",
   "name": "python",
   "nbconvert_exporter": "python",
   "pygments_lexer": "ipython3",
   "version": "3.8.3"
  },
  "toc-autonumbering": false,
  "toc-showmarkdowntxt": false,
  "toc-showtags": false,
  "varInspector": {
   "cols": {
    "lenName": 16,
    "lenType": 16,
    "lenVar": 40
   },
   "kernels_config": {
    "python": {
     "delete_cmd_postfix": "",
     "delete_cmd_prefix": "del ",
     "library": "var_list.py",
     "varRefreshCmd": "print(var_dic_list())"
    },
    "r": {
     "delete_cmd_postfix": ") ",
     "delete_cmd_prefix": "rm(",
     "library": "var_list.r",
     "varRefreshCmd": "cat(var_dic_list()) "
    }
   },
   "types_to_exclude": [
    "module",
    "function",
    "builtin_function_or_method",
    "instance",
    "_Feature"
   ],
   "window_display": false
  }
 },
 "nbformat": 4,
 "nbformat_minor": 5
}
